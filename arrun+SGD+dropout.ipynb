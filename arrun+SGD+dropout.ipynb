{
 "cells": [
  {
   "cell_type": "markdown",
   "metadata": {},
   "source": [
    "### 86.75 점"
   ]
  },
  {
   "cell_type": "code",
   "execution_count": 1,
   "metadata": {},
   "outputs": [
    {
     "name": "stderr",
     "output_type": "stream",
     "text": [
      "Using TensorFlow backend.\n",
      "/home/pirl/anaconda3/envs/vnect/lib/python3.5/site-packages/tensorflow/python/framework/dtypes.py:523: FutureWarning: Passing (type, 1) or '1type' as a synonym of type is deprecated; in a future version of numpy, it will be understood as (type, (1,)) / '(1,)type'.\n",
      "  _np_qint8 = np.dtype([(\"qint8\", np.int8, 1)])\n",
      "/home/pirl/anaconda3/envs/vnect/lib/python3.5/site-packages/tensorflow/python/framework/dtypes.py:524: FutureWarning: Passing (type, 1) or '1type' as a synonym of type is deprecated; in a future version of numpy, it will be understood as (type, (1,)) / '(1,)type'.\n",
      "  _np_quint8 = np.dtype([(\"quint8\", np.uint8, 1)])\n",
      "/home/pirl/anaconda3/envs/vnect/lib/python3.5/site-packages/tensorflow/python/framework/dtypes.py:525: FutureWarning: Passing (type, 1) or '1type' as a synonym of type is deprecated; in a future version of numpy, it will be understood as (type, (1,)) / '(1,)type'.\n",
      "  _np_qint16 = np.dtype([(\"qint16\", np.int16, 1)])\n",
      "/home/pirl/anaconda3/envs/vnect/lib/python3.5/site-packages/tensorflow/python/framework/dtypes.py:526: FutureWarning: Passing (type, 1) or '1type' as a synonym of type is deprecated; in a future version of numpy, it will be understood as (type, (1,)) / '(1,)type'.\n",
      "  _np_quint16 = np.dtype([(\"quint16\", np.uint16, 1)])\n",
      "/home/pirl/anaconda3/envs/vnect/lib/python3.5/site-packages/tensorflow/python/framework/dtypes.py:527: FutureWarning: Passing (type, 1) or '1type' as a synonym of type is deprecated; in a future version of numpy, it will be understood as (type, (1,)) / '(1,)type'.\n",
      "  _np_qint32 = np.dtype([(\"qint32\", np.int32, 1)])\n",
      "/home/pirl/anaconda3/envs/vnect/lib/python3.5/site-packages/tensorflow/python/framework/dtypes.py:532: FutureWarning: Passing (type, 1) or '1type' as a synonym of type is deprecated; in a future version of numpy, it will be understood as (type, (1,)) / '(1,)type'.\n",
      "  np_resource = np.dtype([(\"resource\", np.ubyte, 1)])\n"
     ]
    }
   ],
   "source": [
    "import warnings\n",
    "import pandas as pd\n",
    "import numpy as np\n",
    "import cv2\n",
    "import matplotlib.pyplot as plt\n",
    "\n",
    "from keras.models import Model\n",
    "from keras.layers import Flatten, Dense, Input, Conv2D, MaxPooling2D, BatchNormalization\n",
    "from keras.layers import GlobalAveragePooling2D, GlobalMaxPooling2D, Dropout\n",
    "from keras.engine.topology import get_source_inputs\n",
    "from keras.utils import layer_utils, to_categorical\n",
    "from keras import backend as K\n",
    "from keras import optimizers"
   ]
  },
  {
   "cell_type": "code",
   "execution_count": 2,
   "metadata": {},
   "outputs": [
    {
     "name": "stdout",
     "output_type": "stream",
     "text": [
      "5850 5850 2000\n"
     ]
    }
   ],
   "source": [
    "# load dataset list\n",
    "\n",
    "train_data = pd.read_csv(\"train_vision.csv\")\n",
    "train_filename = train_data[\"filename\"].values.tolist()\n",
    "train_data[\"label\"] = train_data[\"label\"] -1\n",
    "train_label = train_data[\"label\"].values.tolist()\n",
    "\n",
    "test_data = pd.read_csv(\"test_vision.csv\")\n",
    "test_filename = test_data[\"filename\"].values.tolist()\n",
    "\n",
    "print(len(train_filename), len(train_label), len(test_filename))"
   ]
  },
  {
   "cell_type": "code",
   "execution_count": 3,
   "metadata": {},
   "outputs": [
    {
     "name": "stdout",
     "output_type": "stream",
     "text": [
      "(5850, 128, 128, 3) (5850, 6)\n"
     ]
    }
   ],
   "source": [
    "# load train data\n",
    "input_height , input_width = 128, 128\n",
    "n_class = 6\n",
    "\n",
    "def getImageArr(img_name):\n",
    "        img = cv2.imread(\"faces_images/\" + img_name, 1)\n",
    "        img = np.float32(img) / 127.5 - 1   #0~255 를 평균 0이게 수정\n",
    "        return img\n",
    "\n",
    "X = []\n",
    "for name in train_filename:\n",
    "    X.append(getImageArr(name))\n",
    "    \n",
    "X, Y = np.array(X), to_categorical(np.array(train_label),n_class)\n",
    "print(X.shape, Y.shape)"
   ]
  },
  {
   "cell_type": "code",
   "execution_count": 4,
   "metadata": {
    "scrolled": true
   },
   "outputs": [
    {
     "name": "stdout",
     "output_type": "stream",
     "text": [
      "(4972, 128, 128, 3) (4972, 6)\n",
      "(878, 128, 128, 3) (878, 6)\n"
     ]
    }
   ],
   "source": [
    "# split dataset\n",
    "\n",
    "train_rate = 0.85\n",
    "index_train = np.random.choice(X.shape[0],int(X.shape[0]*train_rate),replace=False)\n",
    "index_test  = list(set(range(X.shape[0])) - set(index_train))\n",
    "                            \n",
    "# X, Y = shuffle(X,Y)\n",
    "X_train, y_train = X[index_train],Y[index_train]\n",
    "X_test, y_test = X[index_test],Y[index_test]\n",
    "print(X_train.shape, y_train.shape)\n",
    "print(X_test.shape, y_test.shape)"
   ]
  },
  {
   "cell_type": "code",
   "execution_count": 5,
   "metadata": {},
   "outputs": [
    {
     "name": "stdout",
     "output_type": "stream",
     "text": [
      "(2000, 128, 128, 3)\n"
     ]
    }
   ],
   "source": [
    "# load test data\n",
    "\n",
    "real_test = []\n",
    "for name in test_filename:\n",
    "    real_test.append(getImageArr(name))\n",
    "    \n",
    "real_test = np.array(real_test)\n",
    "print(real_test.shape)"
   ]
  },
  {
   "cell_type": "code",
   "execution_count": 6,
   "metadata": {},
   "outputs": [],
   "source": [
    " def nn_base(nClasses, input_height=128, input_width=128):\n",
    "        \n",
    "    img_input = Input(shape=(input_height,input_width, 3))\n",
    "        \n",
    "    IMAGE_ORDERING =  \"channels_last\"\n",
    "    \n",
    "    x = Conv2D(32,(3, 3),activation = 'relu', padding='same', name='image_array', data_format=IMAGE_ORDERING)(img_input)\n",
    "    x = BatchNormalization(axis=-1)(x)\n",
    "    x = MaxPooling2D(pool_size=(3, 3), name='block3_pool', data_format=IMAGE_ORDERING )(x)\n",
    "    x = Dropout(0.25)(x)\n",
    "\n",
    "    x = Conv2D(64,(3, 3),activation = 'relu', padding='same', data_format=IMAGE_ORDERING)(x)\n",
    "    x = BatchNormalization(axis=-1)(x)\n",
    "    x = Conv2D(64,(3, 3),activation = 'relu', padding='same', data_format=IMAGE_ORDERING)(x)\n",
    "    x = BatchNormalization(axis=-1)(x)\n",
    "    x = MaxPooling2D(pool_size=(2, 2), data_format=IMAGE_ORDERING )(x)\n",
    "    x = Dropout(.25)(x)\n",
    "\n",
    "    x = Conv2D(64,(3, 3),activation = 'relu', padding='same', data_format=IMAGE_ORDERING)(x)\n",
    "    x = BatchNormalization(axis=-1)(x)\n",
    "    x = Conv2D(64,(3, 3),activation = 'relu', padding='same', data_format=IMAGE_ORDERING)(x)\n",
    "    x = BatchNormalization(axis=-1)(x)\n",
    "    x = MaxPooling2D(pool_size=(3, 3), data_format=IMAGE_ORDERING )(x)\n",
    "    x = Dropout(.25)(x)\n",
    "\n",
    "    x = Conv2D(128,(3, 3),activation = 'relu', padding='same', data_format=IMAGE_ORDERING)(x)\n",
    "    x = BatchNormalization(axis=-1)(x)\n",
    "    x = Conv2D(128,(3, 3),activation = 'relu', padding='same', data_format=IMAGE_ORDERING)(x)\n",
    "    x = BatchNormalization(axis=-1)(x)\n",
    "    x = MaxPooling2D(pool_size=(2, 2), data_format=IMAGE_ORDERING )(x)\n",
    "    x = Dropout(.25)(x)\n",
    "    \n",
    "    x = Flatten(name='flatten')(x)\n",
    "    x = Dense(2048, activation='relu', name='fc1')(x)\n",
    "    x = BatchNormalization()(x)\n",
    "    x = Dropout(.5)(x)\n",
    "    \n",
    "    x = Dense(n_class , activation='softmax', name='predictions')(x)\n",
    "    \n",
    "    model = Model(img_input, x)\n",
    "\n",
    "    return model"
   ]
  },
  {
   "cell_type": "code",
   "execution_count": 7,
   "metadata": {},
   "outputs": [
    {
     "name": "stdout",
     "output_type": "stream",
     "text": [
      "_________________________________________________________________\n",
      "Layer (type)                 Output Shape              Param #   \n",
      "=================================================================\n",
      "input_1 (InputLayer)         (None, 128, 128, 3)       0         \n",
      "_________________________________________________________________\n",
      "image_array (Conv2D)         (None, 128, 128, 32)      896       \n",
      "_________________________________________________________________\n",
      "batch_normalization_1 (Batch (None, 128, 128, 32)      128       \n",
      "_________________________________________________________________\n",
      "block3_pool (MaxPooling2D)   (None, 42, 42, 32)        0         \n",
      "_________________________________________________________________\n",
      "dropout_1 (Dropout)          (None, 42, 42, 32)        0         \n",
      "_________________________________________________________________\n",
      "conv2d_1 (Conv2D)            (None, 42, 42, 64)        18496     \n",
      "_________________________________________________________________\n",
      "batch_normalization_2 (Batch (None, 42, 42, 64)        256       \n",
      "_________________________________________________________________\n",
      "conv2d_2 (Conv2D)            (None, 42, 42, 64)        36928     \n",
      "_________________________________________________________________\n",
      "batch_normalization_3 (Batch (None, 42, 42, 64)        256       \n",
      "_________________________________________________________________\n",
      "max_pooling2d_1 (MaxPooling2 (None, 21, 21, 64)        0         \n",
      "_________________________________________________________________\n",
      "dropout_2 (Dropout)          (None, 21, 21, 64)        0         \n",
      "_________________________________________________________________\n",
      "conv2d_3 (Conv2D)            (None, 21, 21, 64)        36928     \n",
      "_________________________________________________________________\n",
      "batch_normalization_4 (Batch (None, 21, 21, 64)        256       \n",
      "_________________________________________________________________\n",
      "conv2d_4 (Conv2D)            (None, 21, 21, 64)        36928     \n",
      "_________________________________________________________________\n",
      "batch_normalization_5 (Batch (None, 21, 21, 64)        256       \n",
      "_________________________________________________________________\n",
      "max_pooling2d_2 (MaxPooling2 (None, 7, 7, 64)          0         \n",
      "_________________________________________________________________\n",
      "dropout_3 (Dropout)          (None, 7, 7, 64)          0         \n",
      "_________________________________________________________________\n",
      "conv2d_5 (Conv2D)            (None, 7, 7, 128)         73856     \n",
      "_________________________________________________________________\n",
      "batch_normalization_6 (Batch (None, 7, 7, 128)         512       \n",
      "_________________________________________________________________\n",
      "conv2d_6 (Conv2D)            (None, 7, 7, 128)         147584    \n",
      "_________________________________________________________________\n",
      "batch_normalization_7 (Batch (None, 7, 7, 128)         512       \n",
      "_________________________________________________________________\n",
      "max_pooling2d_3 (MaxPooling2 (None, 3, 3, 128)         0         \n",
      "_________________________________________________________________\n",
      "dropout_4 (Dropout)          (None, 3, 3, 128)         0         \n",
      "_________________________________________________________________\n",
      "flatten (Flatten)            (None, 1152)              0         \n",
      "_________________________________________________________________\n",
      "fc1 (Dense)                  (None, 2048)              2361344   \n",
      "_________________________________________________________________\n",
      "batch_normalization_8 (Batch (None, 2048)              8192      \n",
      "_________________________________________________________________\n",
      "dropout_5 (Dropout)          (None, 2048)              0         \n",
      "_________________________________________________________________\n",
      "predictions (Dense)          (None, 6)                 12294     \n",
      "=================================================================\n",
      "Total params: 2,735,622\n",
      "Trainable params: 2,730,438\n",
      "Non-trainable params: 5,184\n",
      "_________________________________________________________________\n"
     ]
    }
   ],
   "source": [
    "model = nn_base(nClasses  = n_class,  \n",
    "             input_height = 128, \n",
    "             input_width  = 128)\n",
    "model.summary()"
   ]
  },
  {
   "cell_type": "code",
   "execution_count": 9,
   "metadata": {
    "scrolled": true
   },
   "outputs": [
    {
     "name": "stdout",
     "output_type": "stream",
     "text": [
      "Train on 4972 samples, validate on 878 samples\n",
      "Epoch 1/50\n",
      "4972/4972 [==============================] - 6s 1ms/step - loss: 1.4523 - acc: 0.7009 - val_loss: 1.4495 - val_acc: 0.6800\n",
      "Epoch 2/50\n",
      "4972/4972 [==============================] - 5s 926us/step - loss: 1.1490 - acc: 0.7474 - val_loss: 1.1669 - val_acc: 0.7551\n",
      "Epoch 3/50\n",
      "4972/4972 [==============================] - 5s 910us/step - loss: 1.4112 - acc: 0.6947 - val_loss: 1.0118 - val_acc: 0.6902\n",
      "Epoch 4/50\n",
      "4972/4972 [==============================] - 5s 909us/step - loss: 1.3727 - acc: 0.7182 - val_loss: 2.8772 - val_acc: 0.6708\n",
      "Epoch 5/50\n",
      "4972/4972 [==============================] - 5s 914us/step - loss: 1.1276 - acc: 0.7546 - val_loss: 4.6930 - val_acc: 0.6048\n",
      "Epoch 6/50\n",
      "4972/4972 [==============================] - 5s 920us/step - loss: 1.1017 - acc: 0.7422 - val_loss: 0.4680 - val_acc: 0.8474\n",
      "Epoch 7/50\n",
      "4972/4972 [==============================] - 5s 924us/step - loss: 0.9719 - acc: 0.7816 - val_loss: 0.4859 - val_acc: 0.8485\n",
      "Epoch 8/50\n",
      "4972/4972 [==============================] - 5s 928us/step - loss: 0.8935 - acc: 0.7959 - val_loss: 0.5868 - val_acc: 0.8462\n",
      "Epoch 9/50\n",
      "4972/4972 [==============================] - 5s 918us/step - loss: 0.7704 - acc: 0.8109 - val_loss: 0.4487 - val_acc: 0.8667\n",
      "Epoch 10/50\n",
      "4972/4972 [==============================] - 5s 920us/step - loss: 0.6902 - acc: 0.8194 - val_loss: 0.4895 - val_acc: 0.8610\n",
      "Epoch 11/50\n",
      "4972/4972 [==============================] - 5s 932us/step - loss: 0.7334 - acc: 0.8194 - val_loss: 0.4973 - val_acc: 0.8724\n",
      "Epoch 12/50\n",
      "4972/4972 [==============================] - 5s 922us/step - loss: 0.6905 - acc: 0.8361 - val_loss: 0.4414 - val_acc: 0.8497\n",
      "Epoch 13/50\n",
      "4972/4972 [==============================] - 5s 921us/step - loss: 0.6538 - acc: 0.8298 - val_loss: 0.4997 - val_acc: 0.8269\n",
      "Epoch 14/50\n",
      "4972/4972 [==============================] - 5s 925us/step - loss: 0.6809 - acc: 0.8222 - val_loss: 0.5049 - val_acc: 0.8497\n",
      "Epoch 15/50\n",
      "4972/4972 [==============================] - 5s 924us/step - loss: 0.6526 - acc: 0.8315 - val_loss: 0.5087 - val_acc: 0.8724\n",
      "Epoch 16/50\n",
      "4972/4972 [==============================] - 5s 923us/step - loss: 0.5668 - acc: 0.8435 - val_loss: 0.4239 - val_acc: 0.8747\n",
      "Epoch 17/50\n",
      "4972/4972 [==============================] - 5s 935us/step - loss: 0.6057 - acc: 0.8401 - val_loss: 0.3973 - val_acc: 0.8804\n",
      "Epoch 18/50\n",
      "4972/4972 [==============================] - 5s 916us/step - loss: 0.5581 - acc: 0.8411 - val_loss: 0.3876 - val_acc: 0.8690\n",
      "Epoch 19/50\n",
      "4972/4972 [==============================] - 5s 919us/step - loss: 0.5115 - acc: 0.8502 - val_loss: 0.3884 - val_acc: 0.8759\n",
      "Epoch 20/50\n",
      "4972/4972 [==============================] - 5s 920us/step - loss: 0.5276 - acc: 0.8550 - val_loss: 0.4314 - val_acc: 0.8690\n",
      "Epoch 21/50\n",
      "4972/4972 [==============================] - 5s 926us/step - loss: 0.4795 - acc: 0.8544 - val_loss: 0.5940 - val_acc: 0.8542\n",
      "Epoch 22/50\n",
      "4972/4972 [==============================] - 5s 927us/step - loss: 0.4847 - acc: 0.8584 - val_loss: 0.4318 - val_acc: 0.8736\n",
      "Epoch 23/50\n",
      "4972/4972 [==============================] - 5s 925us/step - loss: 0.4660 - acc: 0.8528 - val_loss: 0.5472 - val_acc: 0.8724\n",
      "Epoch 24/50\n",
      "4972/4972 [==============================] - 5s 921us/step - loss: 0.4576 - acc: 0.8612 - val_loss: 0.3853 - val_acc: 0.8770\n",
      "Epoch 25/50\n",
      "4972/4972 [==============================] - 5s 924us/step - loss: 0.4478 - acc: 0.8644 - val_loss: 0.3488 - val_acc: 0.8850\n",
      "Epoch 26/50\n",
      "4972/4972 [==============================] - 5s 923us/step - loss: 0.4199 - acc: 0.8652 - val_loss: 0.3814 - val_acc: 0.8815\n",
      "Epoch 27/50\n",
      "4972/4972 [==============================] - 5s 926us/step - loss: 0.4409 - acc: 0.8691 - val_loss: 0.3652 - val_acc: 0.8872\n",
      "Epoch 28/50\n",
      "4972/4972 [==============================] - 5s 934us/step - loss: 0.4084 - acc: 0.8769 - val_loss: 0.4415 - val_acc: 0.8861\n",
      "Epoch 29/50\n",
      "4972/4972 [==============================] - 5s 950us/step - loss: 0.4364 - acc: 0.8658 - val_loss: 0.4019 - val_acc: 0.8679\n",
      "Epoch 30/50\n",
      "4972/4972 [==============================] - 5s 924us/step - loss: 0.4602 - acc: 0.8604 - val_loss: 0.3864 - val_acc: 0.8770\n",
      "Epoch 31/50\n",
      "4972/4972 [==============================] - 5s 934us/step - loss: 0.4052 - acc: 0.8699 - val_loss: 0.3730 - val_acc: 0.8929\n",
      "Epoch 32/50\n",
      "4972/4972 [==============================] - 5s 933us/step - loss: 0.3872 - acc: 0.8727 - val_loss: 0.4072 - val_acc: 0.8918\n",
      "Epoch 33/50\n",
      "4972/4972 [==============================] - 5s 928us/step - loss: 0.3812 - acc: 0.8787 - val_loss: 0.3464 - val_acc: 0.8907\n",
      "Epoch 34/50\n",
      "4972/4972 [==============================] - 5s 933us/step - loss: 0.3522 - acc: 0.8829 - val_loss: 0.3410 - val_acc: 0.8975\n",
      "Epoch 35/50\n",
      "4972/4972 [==============================] - 5s 933us/step - loss: 0.3505 - acc: 0.8862 - val_loss: 0.3376 - val_acc: 0.9009\n",
      "Epoch 36/50\n",
      "4972/4972 [==============================] - 5s 933us/step - loss: 0.3532 - acc: 0.8837 - val_loss: 0.3315 - val_acc: 0.8872\n",
      "Epoch 37/50\n",
      "4972/4972 [==============================] - 5s 934us/step - loss: 0.3553 - acc: 0.8827 - val_loss: 0.3251 - val_acc: 0.8975\n",
      "Epoch 38/50\n",
      "4972/4972 [==============================] - 5s 925us/step - loss: 0.3391 - acc: 0.8902 - val_loss: 0.3493 - val_acc: 0.8895\n",
      "Epoch 39/50\n",
      "4972/4972 [==============================] - 5s 938us/step - loss: 0.3300 - acc: 0.8910 - val_loss: 0.3381 - val_acc: 0.9043\n",
      "Epoch 40/50\n",
      "4972/4972 [==============================] - 5s 934us/step - loss: 0.3150 - acc: 0.8912 - val_loss: 0.3329 - val_acc: 0.8929\n",
      "Epoch 41/50\n",
      "4972/4972 [==============================] - 5s 935us/step - loss: 0.3241 - acc: 0.8936 - val_loss: 0.3331 - val_acc: 0.8975\n",
      "Epoch 42/50\n",
      "4972/4972 [==============================] - 5s 933us/step - loss: 0.3141 - acc: 0.8966 - val_loss: 0.3177 - val_acc: 0.9021\n",
      "Epoch 43/50\n",
      "4972/4972 [==============================] - 5s 933us/step - loss: 0.3036 - acc: 0.8924 - val_loss: 0.3262 - val_acc: 0.8964\n",
      "Epoch 44/50\n",
      "4972/4972 [==============================] - 5s 940us/step - loss: 0.3153 - acc: 0.8966 - val_loss: 0.3264 - val_acc: 0.9009\n",
      "Epoch 45/50\n",
      "4972/4972 [==============================] - 5s 934us/step - loss: 0.3046 - acc: 0.8940 - val_loss: 0.3443 - val_acc: 0.9077\n",
      "Epoch 46/50\n",
      "4972/4972 [==============================] - 5s 936us/step - loss: 0.2999 - acc: 0.8944 - val_loss: 0.3236 - val_acc: 0.9032\n",
      "Epoch 47/50\n",
      "4972/4972 [==============================] - 5s 935us/step - loss: 0.3021 - acc: 0.8958 - val_loss: 0.3241 - val_acc: 0.9009\n",
      "Epoch 48/50\n",
      "4972/4972 [==============================] - 5s 929us/step - loss: 0.2879 - acc: 0.8944 - val_loss: 0.3539 - val_acc: 0.9032\n",
      "Epoch 49/50\n",
      "4972/4972 [==============================] - 5s 938us/step - loss: 0.2779 - acc: 0.9033 - val_loss: 0.3219 - val_acc: 0.8975\n",
      "Epoch 50/50\n",
      "4972/4972 [==============================] - 5s 937us/step - loss: 0.2804 - acc: 0.9023 - val_loss: 0.3271 - val_acc: 0.9043\n"
     ]
    }
   ],
   "source": [
    "with K.tf.device('/gpu:1'):\n",
    "    sgd = optimizers.SGD(lr=1E-2, decay=5**(-4), momentum=0.9, nesterov=True)\n",
    "    model.compile(loss='categorical_crossentropy',\n",
    "                  optimizer=sgd,\n",
    "                  metrics=['accuracy'])\n",
    "\n",
    "    hist1 = model.fit(X_train,y_train,\n",
    "                      validation_data=(X_test,y_test),\n",
    "                      batch_size=32,epochs=50)"
   ]
  },
  {
   "cell_type": "code",
   "execution_count": 10,
   "metadata": {},
   "outputs": [
    {
     "data": {
      "image/png": "[encoded data removed]",
      "text/plain": [
       "<Figure size 432x288 with 1 Axes>"
      ]
     },
     "metadata": {
      "needs_background": "light"
     },
     "output_type": "display_data"
    }
   ],
   "source": [
    "for key in ['loss', 'val_loss']:\n",
    "    plt.plot(hist1.history[key],label=key)\n",
    "plt.legend()\n",
    "plt.show()"
   ]
  },
  {
   "cell_type": "code",
   "execution_count": 11,
   "metadata": {},
   "outputs": [
    {
     "name": "stdout",
     "output_type": "stream",
     "text": [
      "[1 2 3 4 5 6] (2000,)\n"
     ]
    }
   ],
   "source": [
    "y_pred = model.predict(real_test)\n",
    "y_predi = np.argmax(y_pred,axis = 1) + 1\n",
    "print(np.unique(y_predi), y_predi.shape)"
   ]
  },
  {
   "cell_type": "code",
   "execution_count": 12,
   "metadata": {},
   "outputs": [],
   "source": [
    "answer = pd.DataFrame({\"prediction\":y_predi})"
   ]
  },
  {
   "cell_type": "code",
   "execution_count": 13,
   "metadata": {},
   "outputs": [],
   "source": [
    "answer.to_csv('results/6-5.csv',index=False, header=\"label\")"
   ]
  },
  {
   "cell_type": "code",
   "execution_count": null,
   "metadata": {},
   "outputs": [],
   "source": []
  }
 ],
 "metadata": {
  "kernelspec": {
   "display_name": "jobfair",
   "language": "python",
   "name": "vnect"
  },
  "language_info": {
   "codemirror_mode": {
    "name": "ipython",
    "version": 3
   },
   "file_extension": ".py",
   "mimetype": "text/x-python",
   "name": "python",
   "nbconvert_exporter": "python",
   "pygments_lexer": "ipython3",
   "version": "3.5.6"
  }
 },
 "nbformat": 4,
 "nbformat_minor": 2
}
