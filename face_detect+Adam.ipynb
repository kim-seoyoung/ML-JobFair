{
 "cells": [
  {
   "cell_type": "markdown",
   "metadata": {},
   "source": [
    "## 87점"
   ]
  },
  {
   "cell_type": "code",
   "execution_count": null,
   "metadata": {},
   "outputs": [],
   "source": [
    "import warnings\n",
    "import pandas as pd\n",
    "import numpy as np\n",
    "import cv2\n",
    "import matplotlib.pyplot as plt\n",
    "\n",
    "from keras.models import Model\n",
    "from keras.layers import Flatten, Dense, Input, Conv2D, MaxPooling2D,Dropout, BatchNormalization, Activation\n",
    "from keras.layers import GlobalAveragePooling2D, GlobalMaxPooling2D,AveragePooling2D\n",
    "from keras.engine.topology import get_source_inputs\n",
    "from keras.utils import layer_utils, to_categorical\n",
    "from keras import backend as K\n",
    "from keras import optimizers"
   ]
  },
  {
   "cell_type": "code",
   "execution_count": 2,
   "metadata": {},
   "outputs": [
    {
     "name": "stdout",
     "output_type": "stream",
     "text": [
      "5850 5850 2000\n"
     ]
    }
   ],
   "source": [
    "# load dataset list\n",
    "\n",
    "train_data = pd.read_csv(\"train_vision.csv\")\n",
    "train_filename = train_data[\"filename\"].values.tolist()\n",
    "train_data[\"label\"] = train_data[\"label\"] -1\n",
    "train_label = train_data[\"label\"].values.tolist()\n",
    "\n",
    "test_data = pd.read_csv(\"test_vision.csv\")\n",
    "test_filename = test_data[\"filename\"].values.tolist()\n",
    "\n",
    "print(len(train_filename), len(train_label), len(test_filename))"
   ]
  },
  {
   "cell_type": "code",
   "execution_count": 3,
   "metadata": {},
   "outputs": [
    {
     "name": "stdout",
     "output_type": "stream",
     "text": [
      "(5850, 128, 128, 3) (5850, 6)\n"
     ]
    }
   ],
   "source": [
    "# load train data\n",
    "input_height , input_width = 128, 128\n",
    "n_class = 6\n",
    "\n",
    "def getImageArr(img_name):\n",
    "        img = cv2.imread(\"faces_images/\" + img_name, 1)\n",
    "        img = np.float32(img) / 127.5 - 1   #0~255 를 평균 0이게 수정\n",
    "        return img\n",
    "\n",
    "X = []\n",
    "for name in train_filename:\n",
    "    X.append(getImageArr(name))\n",
    "    \n",
    "X, Y = np.array(X), to_categorical(np.array(train_label),n_class)\n",
    "print(X.shape, Y.shape)"
   ]
  },
  {
   "cell_type": "code",
   "execution_count": 4,
   "metadata": {
    "scrolled": true
   },
   "outputs": [
    {
     "name": "stdout",
     "output_type": "stream",
     "text": [
      "(4972, 128, 128, 3) (4972, 6)\n",
      "(878, 128, 128, 3) (878, 6)\n"
     ]
    }
   ],
   "source": [
    "# split dataset\n",
    "\n",
    "train_rate = 0.85\n",
    "index_train = np.random.choice(X.shape[0],int(X.shape[0]*train_rate),replace=False)\n",
    "index_test  = list(set(range(X.shape[0])) - set(index_train))\n",
    "                            \n",
    "# X, Y = shuffle(X,Y)\n",
    "X_train, y_train = X[index_train],Y[index_train]\n",
    "X_test, y_test = X[index_test],Y[index_test]\n",
    "print(X_train.shape, y_train.shape)\n",
    "print(X_test.shape, y_test.shape)"
   ]
  },
  {
   "cell_type": "code",
   "execution_count": 5,
   "metadata": {},
   "outputs": [
    {
     "name": "stdout",
     "output_type": "stream",
     "text": [
      "(2000, 128, 128, 3)\n"
     ]
    }
   ],
   "source": [
    "# load test data\n",
    "\n",
    "real_test = []\n",
    "for name in test_filename:\n",
    "    real_test.append(getImageArr(name))\n",
    "    \n",
    "real_test = np.array(real_test)\n",
    "print(real_test.shape)"
   ]
  },
  {
   "cell_type": "code",
   "execution_count": 6,
   "metadata": {},
   "outputs": [],
   "source": [
    " def nn_base(nClasses, input_height=128, input_width=128):\n",
    "        \n",
    "    img_input = Input(shape=(input_height,input_width, 3))\n",
    "        \n",
    "    IMAGE_ORDERING =  \"channels_last\"\n",
    "    \n",
    "    x = Conv2D(filters=16, kernel_size=(7, 7), padding='same', name='image_array', data_format=IMAGE_ORDERING)(img_input)\n",
    "    x = BatchNormalization()(x)\n",
    "    x = Conv2D(filters=16, kernel_size=(7, 7), padding='same', data_format=IMAGE_ORDERING)(x)\n",
    "    x = BatchNormalization()(x)\n",
    "    x = Activation('relu')(x)\n",
    "    x = AveragePooling2D(pool_size=(2, 2), padding='same', data_format=IMAGE_ORDERING)(x)\n",
    "    x = Dropout(.5)(x)\n",
    "\n",
    "    x = Conv2D(filters=32, kernel_size=(5, 5), padding='same', data_format=IMAGE_ORDERING)(x)\n",
    "    x = BatchNormalization()(x)\n",
    "    x = Conv2D(filters=32, kernel_size=(5, 5), padding='same', data_format=IMAGE_ORDERING)(x)\n",
    "    x = BatchNormalization()(x)\n",
    "    x = Activation('relu')(x)\n",
    "    x = AveragePooling2D(pool_size=(2, 2), padding='same')(x)\n",
    "    x = Dropout(.5)(x)\n",
    "\n",
    "    x = Conv2D(filters=64, kernel_size=(3, 3), padding='same', data_format=IMAGE_ORDERING)(x)\n",
    "    x = BatchNormalization()(x)\n",
    "    x = Conv2D(filters=64, kernel_size=(3, 3), padding='same', data_format=IMAGE_ORDERING)(x)\n",
    "    x = BatchNormalization()(x)\n",
    "    x = Activation('relu')(x)\n",
    "    x = AveragePooling2D(pool_size=(2, 2), padding='same', data_format=IMAGE_ORDERING)(x)\n",
    "    x = Dropout(.5)(x)\n",
    "\n",
    "    x = Conv2D(filters=128, kernel_size=(3, 3), padding='same', data_format=IMAGE_ORDERING)(x)\n",
    "    x = BatchNormalization()(x)\n",
    "    x = Conv2D(filters=128, kernel_size=(3, 3), padding='same', data_format=IMAGE_ORDERING)(x)\n",
    "    x = BatchNormalization()(x)\n",
    "    x = Activation('relu')(x)\n",
    "    x = AveragePooling2D(pool_size=(2, 2), padding='same', data_format=IMAGE_ORDERING)(x)\n",
    "    x = Dropout(.5)(x)\n",
    "\n",
    "    x = Conv2D(filters=256, kernel_size=(3, 3), padding='same', data_format=IMAGE_ORDERING)(x)\n",
    "    x = BatchNormalization()(x)\n",
    "    x = Conv2D(filters=nClasses, kernel_size=(3, 3), padding='same', data_format=IMAGE_ORDERING)(x)\n",
    "    x = GlobalAveragePooling2D(data_format=IMAGE_ORDERING)(x)\n",
    "    x = Activation('softmax', name='predictions')(x)\n",
    "    \n",
    "    model = Model(img_input, x)\n",
    "    \n",
    "    return model"
   ]
  },
  {
   "cell_type": "code",
   "execution_count": 7,
   "metadata": {},
   "outputs": [
    {
     "name": "stdout",
     "output_type": "stream",
     "text": [
      "_________________________________________________________________\n",
      "Layer (type)                 Output Shape              Param #   \n",
      "=================================================================\n",
      "input_1 (InputLayer)         (None, 128, 128, 3)       0         \n",
      "_________________________________________________________________\n",
      "image_array (Conv2D)         (None, 128, 128, 16)      2368      \n",
      "_________________________________________________________________\n",
      "batch_normalization_1 (Batch (None, 128, 128, 16)      64        \n",
      "_________________________________________________________________\n",
      "conv2d_1 (Conv2D)            (None, 128, 128, 16)      12560     \n",
      "_________________________________________________________________\n",
      "batch_normalization_2 (Batch (None, 128, 128, 16)      64        \n",
      "_________________________________________________________________\n",
      "activation_1 (Activation)    (None, 128, 128, 16)      0         \n",
      "_________________________________________________________________\n",
      "average_pooling2d_1 (Average (None, 64, 64, 16)        0         \n",
      "_________________________________________________________________\n",
      "dropout_1 (Dropout)          (None, 64, 64, 16)        0         \n",
      "_________________________________________________________________\n",
      "conv2d_2 (Conv2D)            (None, 64, 64, 32)        12832     \n",
      "_________________________________________________________________\n",
      "batch_normalization_3 (Batch (None, 64, 64, 32)        128       \n",
      "_________________________________________________________________\n",
      "conv2d_3 (Conv2D)            (None, 64, 64, 32)        25632     \n",
      "_________________________________________________________________\n",
      "batch_normalization_4 (Batch (None, 64, 64, 32)        128       \n",
      "_________________________________________________________________\n",
      "activation_2 (Activation)    (None, 64, 64, 32)        0         \n",
      "_________________________________________________________________\n",
      "average_pooling2d_2 (Average (None, 32, 32, 32)        0         \n",
      "_________________________________________________________________\n",
      "dropout_2 (Dropout)          (None, 32, 32, 32)        0         \n",
      "_________________________________________________________________\n",
      "conv2d_4 (Conv2D)            (None, 32, 32, 64)        18496     \n",
      "_________________________________________________________________\n",
      "batch_normalization_5 (Batch (None, 32, 32, 64)        256       \n",
      "_________________________________________________________________\n",
      "conv2d_5 (Conv2D)            (None, 32, 32, 64)        36928     \n",
      "_________________________________________________________________\n",
      "batch_normalization_6 (Batch (None, 32, 32, 64)        256       \n",
      "_________________________________________________________________\n",
      "activation_3 (Activation)    (None, 32, 32, 64)        0         \n",
      "_________________________________________________________________\n",
      "average_pooling2d_3 (Average (None, 16, 16, 64)        0         \n",
      "_________________________________________________________________\n",
      "dropout_3 (Dropout)          (None, 16, 16, 64)        0         \n",
      "_________________________________________________________________\n",
      "conv2d_6 (Conv2D)            (None, 16, 16, 128)       73856     \n",
      "_________________________________________________________________\n",
      "batch_normalization_7 (Batch (None, 16, 16, 128)       512       \n",
      "_________________________________________________________________\n",
      "conv2d_7 (Conv2D)            (None, 16, 16, 128)       147584    \n",
      "_________________________________________________________________\n",
      "batch_normalization_8 (Batch (None, 16, 16, 128)       512       \n",
      "_________________________________________________________________\n",
      "activation_4 (Activation)    (None, 16, 16, 128)       0         \n",
      "_________________________________________________________________\n",
      "average_pooling2d_4 (Average (None, 8, 8, 128)         0         \n",
      "_________________________________________________________________\n",
      "dropout_4 (Dropout)          (None, 8, 8, 128)         0         \n",
      "_________________________________________________________________\n",
      "conv2d_8 (Conv2D)            (None, 8, 8, 256)         295168    \n",
      "_________________________________________________________________\n",
      "batch_normalization_9 (Batch (None, 8, 8, 256)         1024      \n",
      "_________________________________________________________________\n",
      "conv2d_9 (Conv2D)            (None, 8, 8, 6)           13830     \n",
      "_________________________________________________________________\n",
      "global_average_pooling2d_1 ( (None, 6)                 0         \n",
      "_________________________________________________________________\n",
      "predictions (Activation)     (None, 6)                 0         \n",
      "=================================================================\n",
      "Total params: 642,198\n",
      "Trainable params: 640,726\n",
      "Non-trainable params: 1,472\n",
      "_________________________________________________________________\n"
     ]
    }
   ],
   "source": [
    "model = nn_base(nClasses  = n_class,  \n",
    "             input_height = 128, \n",
    "             input_width  = 128)\n",
    "model.summary()"
   ]
  },
  {
   "cell_type": "code",
   "execution_count": 8,
   "metadata": {},
   "outputs": [
    {
     "name": "stdout",
     "output_type": "stream",
     "text": [
      "Train on 4972 samples, validate on 878 samples\n",
      "Epoch 1/100\n",
      "4972/4972 [==============================] - 11s 2ms/step - loss: 1.6884 - acc: 0.4399 - val_loss: 2.0494 - val_acc: 0.3417\n",
      "Epoch 2/100\n",
      "4972/4972 [==============================] - 7s 1ms/step - loss: 1.3320 - acc: 0.5099 - val_loss: 1.3349 - val_acc: 0.5364\n",
      "Epoch 3/100\n",
      "4972/4972 [==============================] - 7s 1ms/step - loss: 1.2795 - acc: 0.5211 - val_loss: 1.3777 - val_acc: 0.5114\n",
      "Epoch 4/100\n",
      "4972/4972 [==============================] - 7s 1ms/step - loss: 1.2313 - acc: 0.5378 - val_loss: 1.1557 - val_acc: 0.5991\n",
      "Epoch 5/100\n",
      "4972/4972 [==============================] - 7s 1ms/step - loss: 1.1418 - acc: 0.5684 - val_loss: 1.2071 - val_acc: 0.5638\n",
      "Epoch 6/100\n",
      "4972/4972 [==============================] - 7s 1ms/step - loss: 1.0573 - acc: 0.5927 - val_loss: 1.0362 - val_acc: 0.6128\n",
      "Epoch 7/100\n",
      "4972/4972 [==============================] - 7s 1ms/step - loss: 0.9148 - acc: 0.6432 - val_loss: 0.9500 - val_acc: 0.6765\n",
      "Epoch 8/100\n",
      "4972/4972 [==============================] - 7s 1ms/step - loss: 0.8119 - acc: 0.6955 - val_loss: 0.8988 - val_acc: 0.6298\n",
      "Epoch 9/100\n",
      "4972/4972 [==============================] - 7s 1ms/step - loss: 0.7493 - acc: 0.7192 - val_loss: 0.7509 - val_acc: 0.7335\n",
      "Epoch 10/100\n",
      "4972/4972 [==============================] - 7s 1ms/step - loss: 0.6755 - acc: 0.7464 - val_loss: 0.7406 - val_acc: 0.7733\n",
      "Epoch 11/100\n",
      "4972/4972 [==============================] - 7s 1ms/step - loss: 0.6438 - acc: 0.7597 - val_loss: 0.7151 - val_acc: 0.7289\n",
      "Epoch 12/100\n",
      "4972/4972 [==============================] - 7s 1ms/step - loss: 0.5963 - acc: 0.7757 - val_loss: 0.5418 - val_acc: 0.8098\n",
      "Epoch 13/100\n",
      "4972/4972 [==============================] - 7s 1ms/step - loss: 0.5640 - acc: 0.7866 - val_loss: 0.5034 - val_acc: 0.8223\n",
      "Epoch 14/100\n",
      "4972/4972 [==============================] - 7s 1ms/step - loss: 0.5474 - acc: 0.7951 - val_loss: 0.5019 - val_acc: 0.8200\n",
      "Epoch 15/100\n",
      "4972/4972 [==============================] - 7s 1ms/step - loss: 0.5070 - acc: 0.8176 - val_loss: 0.8039 - val_acc: 0.7096\n",
      "Epoch 16/100\n",
      "4972/4972 [==============================] - 7s 1ms/step - loss: 0.4906 - acc: 0.8200 - val_loss: 0.4926 - val_acc: 0.8064\n",
      "Epoch 17/100\n",
      "4972/4972 [==============================] - 7s 1ms/step - loss: 0.4719 - acc: 0.8242 - val_loss: 0.3952 - val_acc: 0.8667\n",
      "Epoch 18/100\n",
      "4972/4972 [==============================] - 7s 1ms/step - loss: 0.4661 - acc: 0.8343 - val_loss: 0.4112 - val_acc: 0.8588\n",
      "Epoch 19/100\n",
      "4972/4972 [==============================] - 7s 1ms/step - loss: 0.4397 - acc: 0.8413 - val_loss: 0.3715 - val_acc: 0.8667\n",
      "Epoch 20/100\n",
      "4972/4972 [==============================] - 7s 1ms/step - loss: 0.4415 - acc: 0.8377 - val_loss: 0.4697 - val_acc: 0.8417\n",
      "Epoch 21/100\n",
      "4972/4972 [==============================] - 7s 1ms/step - loss: 0.4175 - acc: 0.8494 - val_loss: 0.4674 - val_acc: 0.8337\n",
      "Epoch 22/100\n",
      "4972/4972 [==============================] - 7s 1ms/step - loss: 0.4153 - acc: 0.8532 - val_loss: 0.3385 - val_acc: 0.8838\n",
      "Epoch 23/100\n",
      "4972/4972 [==============================] - 7s 1ms/step - loss: 0.3995 - acc: 0.8548 - val_loss: 0.5345 - val_acc: 0.8189\n",
      "Epoch 24/100\n",
      "4972/4972 [==============================] - 7s 1ms/step - loss: 0.3991 - acc: 0.8532 - val_loss: 0.3489 - val_acc: 0.8838\n",
      "Epoch 25/100\n",
      "4972/4972 [==============================] - 7s 1ms/step - loss: 0.3868 - acc: 0.8572 - val_loss: 0.3304 - val_acc: 0.8872\n",
      "Epoch 26/100\n",
      "4972/4972 [==============================] - 7s 1ms/step - loss: 0.3855 - acc: 0.8616 - val_loss: 0.3502 - val_acc: 0.8850\n",
      "Epoch 27/100\n",
      "4972/4972 [==============================] - 7s 1ms/step - loss: 0.3660 - acc: 0.8632 - val_loss: 0.4255 - val_acc: 0.8542\n",
      "Epoch 28/100\n",
      "4972/4972 [==============================] - 7s 1ms/step - loss: 0.3680 - acc: 0.8687 - val_loss: 0.3242 - val_acc: 0.8929\n",
      "Epoch 29/100\n",
      "4972/4972 [==============================] - 7s 1ms/step - loss: 0.3556 - acc: 0.8691 - val_loss: 0.3906 - val_acc: 0.8747\n",
      "Epoch 30/100\n",
      "4972/4972 [==============================] - 7s 1ms/step - loss: 0.3438 - acc: 0.8793 - val_loss: 0.4633 - val_acc: 0.8462\n",
      "Epoch 31/100\n",
      "4972/4972 [==============================] - 7s 1ms/step - loss: 0.3389 - acc: 0.8781 - val_loss: 0.3713 - val_acc: 0.8679\n",
      "Epoch 32/100\n",
      "4972/4972 [==============================] - 7s 1ms/step - loss: 0.3414 - acc: 0.8811 - val_loss: 0.4509 - val_acc: 0.8280\n",
      "Epoch 33/100\n",
      "4972/4972 [==============================] - 7s 1ms/step - loss: 0.3346 - acc: 0.8797 - val_loss: 0.3077 - val_acc: 0.8872\n",
      "Epoch 34/100\n",
      "4972/4972 [==============================] - 7s 1ms/step - loss: 0.3426 - acc: 0.8741 - val_loss: 0.3329 - val_acc: 0.8815\n",
      "Epoch 35/100\n",
      "4972/4972 [==============================] - 7s 1ms/step - loss: 0.3255 - acc: 0.8811 - val_loss: 0.3627 - val_acc: 0.8759\n",
      "Epoch 36/100\n",
      "4972/4972 [==============================] - 7s 2ms/step - loss: 0.3216 - acc: 0.8870 - val_loss: 0.4224 - val_acc: 0.8485\n",
      "Epoch 37/100\n",
      "4972/4972 [==============================] - 7s 1ms/step - loss: 0.3168 - acc: 0.8892 - val_loss: 0.3768 - val_acc: 0.8781\n",
      "Epoch 38/100\n",
      "4972/4972 [==============================] - 7s 1ms/step - loss: 0.3174 - acc: 0.8813 - val_loss: 0.3600 - val_acc: 0.8736\n",
      "Epoch 39/100\n",
      "4972/4972 [==============================] - 7s 1ms/step - loss: 0.3246 - acc: 0.8805 - val_loss: 0.3180 - val_acc: 0.8941\n",
      "Epoch 40/100\n",
      "4972/4972 [==============================] - 7s 1ms/step - loss: 0.3080 - acc: 0.8882 - val_loss: 0.3153 - val_acc: 0.8850\n",
      "Epoch 41/100\n",
      "4972/4972 [==============================] - 7s 1ms/step - loss: 0.3011 - acc: 0.8964 - val_loss: 0.3175 - val_acc: 0.8770\n",
      "Epoch 42/100\n",
      "4972/4972 [==============================] - 7s 1ms/step - loss: 0.2891 - acc: 0.8958 - val_loss: 0.3802 - val_acc: 0.8622\n",
      "Epoch 43/100\n",
      "4972/4972 [==============================] - 7s 1ms/step - loss: 0.2901 - acc: 0.8954 - val_loss: 0.3195 - val_acc: 0.8975\n",
      "Epoch 44/100\n",
      "4972/4972 [==============================] - 7s 1ms/step - loss: 0.2855 - acc: 0.8940 - val_loss: 0.3153 - val_acc: 0.8929\n",
      "Epoch 45/100\n",
      "4972/4972 [==============================] - 7s 1ms/step - loss: 0.2909 - acc: 0.8944 - val_loss: 0.3121 - val_acc: 0.8770\n",
      "Epoch 46/100\n",
      "4972/4972 [==============================] - 7s 1ms/step - loss: 0.2843 - acc: 0.8982 - val_loss: 0.3521 - val_acc: 0.8804\n",
      "Epoch 47/100\n",
      "4972/4972 [==============================] - 7s 1ms/step - loss: 0.2885 - acc: 0.8948 - val_loss: 0.3679 - val_acc: 0.8895\n",
      "Epoch 48/100\n",
      "4972/4972 [==============================] - 7s 1ms/step - loss: 0.2795 - acc: 0.8986 - val_loss: 0.3386 - val_acc: 0.8872\n",
      "Epoch 49/100\n",
      "4972/4972 [==============================] - 7s 1ms/step - loss: 0.2573 - acc: 0.9099 - val_loss: 0.3298 - val_acc: 0.8872\n",
      "Epoch 50/100\n",
      "4972/4972 [==============================] - 7s 1ms/step - loss: 0.2799 - acc: 0.8956 - val_loss: 0.3186 - val_acc: 0.8872\n",
      "Epoch 51/100\n",
      "4972/4972 [==============================] - 7s 1ms/step - loss: 0.2816 - acc: 0.8972 - val_loss: 0.3064 - val_acc: 0.8952\n",
      "Epoch 52/100\n",
      "4972/4972 [==============================] - 7s 1ms/step - loss: 0.2718 - acc: 0.9016 - val_loss: 0.3102 - val_acc: 0.8929\n",
      "Epoch 53/100\n",
      "4972/4972 [==============================] - 7s 1ms/step - loss: 0.2627 - acc: 0.9033 - val_loss: 0.3558 - val_acc: 0.8929\n",
      "Epoch 54/100\n",
      "4972/4972 [==============================] - 7s 1ms/step - loss: 0.2591 - acc: 0.9061 - val_loss: 0.3138 - val_acc: 0.8861\n",
      "Epoch 55/100\n",
      "4972/4972 [==============================] - 7s 1ms/step - loss: 0.2483 - acc: 0.9091 - val_loss: 0.3419 - val_acc: 0.8884\n",
      "Epoch 56/100\n",
      "4972/4972 [==============================] - 7s 1ms/step - loss: 0.2668 - acc: 0.9069 - val_loss: 0.3274 - val_acc: 0.8895\n",
      "Epoch 57/100\n",
      "4972/4972 [==============================] - 7s 1ms/step - loss: 0.2602 - acc: 0.9051 - val_loss: 0.3053 - val_acc: 0.9009\n",
      "Epoch 58/100\n",
      "4972/4972 [==============================] - 8s 2ms/step - loss: 0.2607 - acc: 0.9081 - val_loss: 0.2965 - val_acc: 0.9032\n",
      "Epoch 59/100\n",
      "4972/4972 [==============================] - 8s 2ms/step - loss: 0.2516 - acc: 0.9089 - val_loss: 0.3545 - val_acc: 0.8724\n",
      "Epoch 60/100\n",
      "4972/4972 [==============================] - 7s 1ms/step - loss: 0.2549 - acc: 0.9059 - val_loss: 0.3226 - val_acc: 0.8872\n"
     ]
    },
    {
     "name": "stdout",
     "output_type": "stream",
     "text": [
      "Epoch 61/100\n",
      "4972/4972 [==============================] - 7s 2ms/step - loss: 0.2358 - acc: 0.9153 - val_loss: 0.3022 - val_acc: 0.8964\n",
      "Epoch 62/100\n",
      "4972/4972 [==============================] - 7s 1ms/step - loss: 0.2335 - acc: 0.9159 - val_loss: 0.3290 - val_acc: 0.8827\n",
      "Epoch 63/100\n",
      "4972/4972 [==============================] - 7s 2ms/step - loss: 0.2419 - acc: 0.9111 - val_loss: 0.3427 - val_acc: 0.8918\n",
      "Epoch 64/100\n",
      "4972/4972 [==============================] - 7s 1ms/step - loss: 0.2490 - acc: 0.9087 - val_loss: 0.3207 - val_acc: 0.8929\n",
      "Epoch 65/100\n",
      "4972/4972 [==============================] - 7s 2ms/step - loss: 0.2428 - acc: 0.9125 - val_loss: 0.3365 - val_acc: 0.8884\n",
      "Epoch 66/100\n",
      "4972/4972 [==============================] - 7s 1ms/step - loss: 0.2384 - acc: 0.9147 - val_loss: 0.3086 - val_acc: 0.8964\n",
      "Epoch 67/100\n",
      "4972/4972 [==============================] - 7s 1ms/step - loss: 0.2313 - acc: 0.9167 - val_loss: 0.2995 - val_acc: 0.9043\n",
      "Epoch 68/100\n",
      "4972/4972 [==============================] - 7s 1ms/step - loss: 0.2301 - acc: 0.9165 - val_loss: 0.3298 - val_acc: 0.8941\n",
      "Epoch 69/100\n",
      "4972/4972 [==============================] - 7s 1ms/step - loss: 0.2248 - acc: 0.9187 - val_loss: 0.3144 - val_acc: 0.8918\n",
      "Epoch 70/100\n",
      "4972/4972 [==============================] - 7s 1ms/step - loss: 0.2254 - acc: 0.9183 - val_loss: 0.3198 - val_acc: 0.8941\n",
      "Epoch 71/100\n",
      "4972/4972 [==============================] - 7s 1ms/step - loss: 0.2330 - acc: 0.9175 - val_loss: 0.3705 - val_acc: 0.8702\n",
      "Epoch 72/100\n",
      "4972/4972 [==============================] - 7s 1ms/step - loss: 0.2256 - acc: 0.9179 - val_loss: 0.3386 - val_acc: 0.8781\n",
      "Epoch 73/100\n",
      "4972/4972 [==============================] - 7s 1ms/step - loss: 0.2282 - acc: 0.9155 - val_loss: 0.3271 - val_acc: 0.8929\n",
      "Epoch 74/100\n",
      "4972/4972 [==============================] - 7s 2ms/step - loss: 0.2286 - acc: 0.9133 - val_loss: 0.3097 - val_acc: 0.8952\n",
      "Epoch 75/100\n",
      "4972/4972 [==============================] - 7s 1ms/step - loss: 0.2127 - acc: 0.9218 - val_loss: 0.3296 - val_acc: 0.8941\n",
      "Epoch 76/100\n",
      "4972/4972 [==============================] - 7s 1ms/step - loss: 0.2169 - acc: 0.9214 - val_loss: 0.3150 - val_acc: 0.8895\n",
      "Epoch 77/100\n",
      "4972/4972 [==============================] - 7s 1ms/step - loss: 0.2263 - acc: 0.9183 - val_loss: 0.3171 - val_acc: 0.8964\n",
      "Epoch 78/100\n",
      "4972/4972 [==============================] - 7s 1ms/step - loss: 0.2155 - acc: 0.9202 - val_loss: 0.3338 - val_acc: 0.8850\n",
      "Epoch 79/100\n",
      "4972/4972 [==============================] - 7s 1ms/step - loss: 0.2153 - acc: 0.9214 - val_loss: 0.3429 - val_acc: 0.8838\n",
      "Epoch 80/100\n",
      "4972/4972 [==============================] - 7s 1ms/step - loss: 0.2076 - acc: 0.9266 - val_loss: 0.3297 - val_acc: 0.8815\n",
      "Epoch 81/100\n",
      "4972/4972 [==============================] - 7s 1ms/step - loss: 0.2116 - acc: 0.9208 - val_loss: 0.3173 - val_acc: 0.8941\n",
      "Epoch 82/100\n",
      "4972/4972 [==============================] - 7s 1ms/step - loss: 0.2098 - acc: 0.9238 - val_loss: 0.3180 - val_acc: 0.8918\n",
      "Epoch 83/100\n",
      "4972/4972 [==============================] - 7s 1ms/step - loss: 0.2124 - acc: 0.9210 - val_loss: 0.3101 - val_acc: 0.8907\n",
      "Epoch 84/100\n",
      "4972/4972 [==============================] - 7s 1ms/step - loss: 0.2189 - acc: 0.9216 - val_loss: 0.3280 - val_acc: 0.8975\n",
      "Epoch 85/100\n",
      "4972/4972 [==============================] - 7s 1ms/step - loss: 0.2110 - acc: 0.9204 - val_loss: 0.3206 - val_acc: 0.8895\n",
      "Epoch 86/100\n",
      "4972/4972 [==============================] - 7s 1ms/step - loss: 0.2084 - acc: 0.9276 - val_loss: 0.3712 - val_acc: 0.8702\n",
      "Epoch 87/100\n",
      "4972/4972 [==============================] - 7s 1ms/step - loss: 0.1981 - acc: 0.9300 - val_loss: 0.3286 - val_acc: 0.8850\n",
      "Epoch 88/100\n",
      "4972/4972 [==============================] - 7s 1ms/step - loss: 0.2026 - acc: 0.9314 - val_loss: 0.3492 - val_acc: 0.8838\n",
      "Epoch 89/100\n",
      "4972/4972 [==============================] - 7s 1ms/step - loss: 0.2054 - acc: 0.9250 - val_loss: 0.3114 - val_acc: 0.9009\n",
      "Epoch 90/100\n",
      "4972/4972 [==============================] - 7s 1ms/step - loss: 0.1957 - acc: 0.9320 - val_loss: 0.3371 - val_acc: 0.8941\n",
      "Epoch 91/100\n",
      "4972/4972 [==============================] - 7s 1ms/step - loss: 0.2006 - acc: 0.9262 - val_loss: 0.3487 - val_acc: 0.8793\n",
      "Epoch 92/100\n",
      "4972/4972 [==============================] - 7s 1ms/step - loss: 0.2037 - acc: 0.9294 - val_loss: 0.3054 - val_acc: 0.8929\n",
      "Epoch 93/100\n",
      "4972/4972 [==============================] - 7s 1ms/step - loss: 0.1965 - acc: 0.9280 - val_loss: 0.3121 - val_acc: 0.8907\n",
      "Epoch 94/100\n",
      "4972/4972 [==============================] - 7s 1ms/step - loss: 0.1826 - acc: 0.9336 - val_loss: 0.3180 - val_acc: 0.8884\n",
      "Epoch 95/100\n",
      "4972/4972 [==============================] - 7s 1ms/step - loss: 0.1953 - acc: 0.9314 - val_loss: 0.3197 - val_acc: 0.8964\n",
      "Epoch 96/100\n",
      "4972/4972 [==============================] - 7s 1ms/step - loss: 0.2011 - acc: 0.9278 - val_loss: 0.3235 - val_acc: 0.8895\n",
      "Epoch 97/100\n",
      "4972/4972 [==============================] - 7s 1ms/step - loss: 0.1904 - acc: 0.9302 - val_loss: 0.3475 - val_acc: 0.8804\n",
      "Epoch 98/100\n",
      "4972/4972 [==============================] - 7s 1ms/step - loss: 0.1897 - acc: 0.9312 - val_loss: 0.3104 - val_acc: 0.8895\n",
      "Epoch 99/100\n",
      "4972/4972 [==============================] - 7s 1ms/step - loss: 0.1993 - acc: 0.9278 - val_loss: 0.3178 - val_acc: 0.8907\n",
      "Epoch 100/100\n",
      "4972/4972 [==============================] - 7s 1ms/step - loss: 0.1907 - acc: 0.9292 - val_loss: 0.3484 - val_acc: 0.8850\n"
     ]
    }
   ],
   "source": [
    "with K.tf.device('/gpu:1'):\n",
    "    adam = optimizers.Adam(lr=1E-2, decay=5**(-4))\n",
    "    model.compile(loss='categorical_crossentropy',\n",
    "                  optimizer=adam,\n",
    "                  metrics=['accuracy'])\n",
    "\n",
    "    hist1 = model.fit(X_train,y_train,\n",
    "                      validation_data=(X_test,y_test),\n",
    "                      batch_size=32,epochs=100)"
   ]
  },
  {
   "cell_type": "code",
   "execution_count": 9,
   "metadata": {},
   "outputs": [
    {
     "data": {
      "image/png": "[encoded data removed]",
      "text/plain": [
       "<Figure size 432x288 with 1 Axes>"
      ]
     },
     "metadata": {
      "needs_background": "light"
     },
     "output_type": "display_data"
    }
   ],
   "source": [
    "for key in ['loss', 'val_loss']:\n",
    "    plt.plot(hist1.history[key],label=key)\n",
    "plt.legend()\n",
    "plt.show()"
   ]
  },
  {
   "cell_type": "code",
   "execution_count": 10,
   "metadata": {},
   "outputs": [
    {
     "name": "stdout",
     "output_type": "stream",
     "text": [
      "[1 2 3 4 5 6] (2000,)\n"
     ]
    }
   ],
   "source": [
    "y_pred = model.predict(real_test)\n",
    "y_predi = np.argmax(y_pred,axis = 1) + 1\n",
    "print(np.unique(y_predi), y_predi.shape)"
   ]
  },
  {
   "cell_type": "code",
   "execution_count": 11,
   "metadata": {},
   "outputs": [],
   "source": [
    "answer = pd.DataFrame({\"prediction\":y_predi})"
   ]
  },
  {
   "cell_type": "code",
   "execution_count": 12,
   "metadata": {},
   "outputs": [],
   "source": [
    "answer.to_csv('results/4-1.csv',index=False, header=\"label\")"
   ]
  },
  {
   "cell_type": "code",
   "execution_count": null,
   "metadata": {},
   "outputs": [],
   "source": []
  }
 ],
 "metadata": {
  "kernelspec": {
   "display_name": "jobfair",
   "language": "python",
   "name": "vnect"
  },
  "language_info": {
   "codemirror_mode": {
    "name": "ipython",
    "version": 3
   },
   "file_extension": ".py",
   "mimetype": "text/x-python",
   "name": "python",
   "nbconvert_exporter": "python",
   "pygments_lexer": "ipython3",
   "version": "3.5.6"
  }
 },
 "nbformat": 4,
 "nbformat_minor": 2
}
