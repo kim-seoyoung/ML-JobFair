{
 "cells": [
  {
   "cell_type": "markdown",
   "metadata": {},
   "source": [
    "###  87점"
   ]
  },
  {
   "cell_type": "code",
   "execution_count": 1,
   "metadata": {},
   "outputs": [
    {
     "name": "stderr",
     "output_type": "stream",
     "text": [
      "Using TensorFlow backend.\n",
      "/home/pirl/anaconda3/envs/vnect/lib/python3.5/site-packages/tensorflow/python/framework/dtypes.py:523: FutureWarning: Passing (type, 1) or '1type' as a synonym of type is deprecated; in a future version of numpy, it will be understood as (type, (1,)) / '(1,)type'.\n",
      "  _np_qint8 = np.dtype([(\"qint8\", np.int8, 1)])\n",
      "/home/pirl/anaconda3/envs/vnect/lib/python3.5/site-packages/tensorflow/python/framework/dtypes.py:524: FutureWarning: Passing (type, 1) or '1type' as a synonym of type is deprecated; in a future version of numpy, it will be understood as (type, (1,)) / '(1,)type'.\n",
      "  _np_quint8 = np.dtype([(\"quint8\", np.uint8, 1)])\n",
      "/home/pirl/anaconda3/envs/vnect/lib/python3.5/site-packages/tensorflow/python/framework/dtypes.py:525: FutureWarning: Passing (type, 1) or '1type' as a synonym of type is deprecated; in a future version of numpy, it will be understood as (type, (1,)) / '(1,)type'.\n",
      "  _np_qint16 = np.dtype([(\"qint16\", np.int16, 1)])\n",
      "/home/pirl/anaconda3/envs/vnect/lib/python3.5/site-packages/tensorflow/python/framework/dtypes.py:526: FutureWarning: Passing (type, 1) or '1type' as a synonym of type is deprecated; in a future version of numpy, it will be understood as (type, (1,)) / '(1,)type'.\n",
      "  _np_quint16 = np.dtype([(\"quint16\", np.uint16, 1)])\n",
      "/home/pirl/anaconda3/envs/vnect/lib/python3.5/site-packages/tensorflow/python/framework/dtypes.py:527: FutureWarning: Passing (type, 1) or '1type' as a synonym of type is deprecated; in a future version of numpy, it will be understood as (type, (1,)) / '(1,)type'.\n",
      "  _np_qint32 = np.dtype([(\"qint32\", np.int32, 1)])\n",
      "/home/pirl/anaconda3/envs/vnect/lib/python3.5/site-packages/tensorflow/python/framework/dtypes.py:532: FutureWarning: Passing (type, 1) or '1type' as a synonym of type is deprecated; in a future version of numpy, it will be understood as (type, (1,)) / '(1,)type'.\n",
      "  np_resource = np.dtype([(\"resource\", np.ubyte, 1)])\n"
     ]
    }
   ],
   "source": [
    "import warnings\n",
    "import pandas as pd\n",
    "import numpy as np\n",
    "import cv2\n",
    "import matplotlib.pyplot as plt\n",
    "\n",
    "from keras.models import Model\n",
    "from keras.layers import Flatten, Dense, Input, Conv2D, MaxPooling2D, BatchNormalization\n",
    "from keras.layers import GlobalAveragePooling2D, GlobalMaxPooling2D, Dropout\n",
    "from keras.engine.topology import get_source_inputs\n",
    "from keras.utils import layer_utils, to_categorical\n",
    "from keras import backend as K\n",
    "from keras import optimizers"
   ]
  },
  {
   "cell_type": "code",
   "execution_count": 2,
   "metadata": {},
   "outputs": [
    {
     "name": "stdout",
     "output_type": "stream",
     "text": [
      "5850 5850 2000\n"
     ]
    }
   ],
   "source": [
    "# load dataset list\n",
    "\n",
    "train_data = pd.read_csv(\"train_vision.csv\")\n",
    "train_filename = train_data[\"filename\"].values.tolist()\n",
    "train_data[\"label\"] = train_data[\"label\"] -1\n",
    "train_label = train_data[\"label\"].values.tolist()\n",
    "\n",
    "test_data = pd.read_csv(\"test_vision.csv\")\n",
    "test_filename = test_data[\"filename\"].values.tolist()\n",
    "\n",
    "print(len(train_filename), len(train_label), len(test_filename))"
   ]
  },
  {
   "cell_type": "code",
   "execution_count": 19,
   "metadata": {},
   "outputs": [
    {
     "name": "stdout",
     "output_type": "stream",
     "text": [
      "(5850, 128, 128, 3) (5850, 6)\n"
     ]
    }
   ],
   "source": [
    "# load train data\n",
    "input_height , input_width = 128, 128\n",
    "n_class = 6\n",
    "\n",
    "def getImageArr(img_name):\n",
    "        img = cv2.imread(\"faces_images/\" + img_name, 1)\n",
    "        img = np.float32(img) / 255   #0~255 를 평균 0이게 수정\n",
    "        return img\n",
    "\n",
    "X = []\n",
    "for name in train_filename:\n",
    "    X.append(getImageArr(name))\n",
    "    \n",
    "X, Y = np.array(X), to_categorical(np.array(train_label),n_class)\n",
    "print(X.shape, Y.shape)"
   ]
  },
  {
   "cell_type": "code",
   "execution_count": 20,
   "metadata": {
    "scrolled": true
   },
   "outputs": [
    {
     "name": "stdout",
     "output_type": "stream",
     "text": [
      "(4972, 128, 128, 3) (4972, 6)\n",
      "(878, 128, 128, 3) (878, 6)\n"
     ]
    }
   ],
   "source": [
    "# split dataset\n",
    "\n",
    "train_rate = 0.85\n",
    "index_train = np.random.choice(X.shape[0],int(X.shape[0]*train_rate),replace=False)\n",
    "index_test  = list(set(range(X.shape[0])) - set(index_train))\n",
    "                            \n",
    "# X, Y = shuffle(X,Y)\n",
    "X_train, y_train = X[index_train],Y[index_train]\n",
    "X_test, y_test = X[index_test],Y[index_test]\n",
    "print(X_train.shape, y_train.shape)\n",
    "print(X_test.shape, y_test.shape)"
   ]
  },
  {
   "cell_type": "code",
   "execution_count": 21,
   "metadata": {},
   "outputs": [
    {
     "name": "stdout",
     "output_type": "stream",
     "text": [
      "(2000, 128, 128, 3)\n"
     ]
    }
   ],
   "source": [
    "# load test data\n",
    "\n",
    "real_test = []\n",
    "for name in test_filename:\n",
    "    real_test.append(getImageArr(name))\n",
    "    \n",
    "real_test = np.array(real_test)\n",
    "print(real_test.shape)"
   ]
  },
  {
   "cell_type": "code",
   "execution_count": 25,
   "metadata": {},
   "outputs": [],
   "source": [
    " def nn_base(nClasses, input_height=128, input_width=128):\n",
    "        \n",
    "    img_input = Input(shape=(input_height,input_width, 3))\n",
    "        \n",
    "    IMAGE_ORDERING =  \"channels_last\"\n",
    "    \n",
    "    x = Conv2D(32,(3, 3),activation = 'relu', padding='same', name='image_array', data_format=IMAGE_ORDERING)(img_input)\n",
    "    x = BatchNormalization(axis=-1)(x)\n",
    "    x = MaxPooling2D(pool_size=(3, 3), name='block3_pool', data_format=IMAGE_ORDERING )(x)\n",
    "    x = Dropout(0.25)(x)\n",
    "\n",
    "    x = Conv2D(64,(3, 3),activation = 'relu', padding='same', data_format=IMAGE_ORDERING)(x)\n",
    "    x = BatchNormalization(axis=-1)(x)\n",
    "    x = Conv2D(64,(3, 3),activation = 'relu', padding='same', data_format=IMAGE_ORDERING)(x)\n",
    "    x = BatchNormalization(axis=-1)(x)\n",
    "    x = MaxPooling2D(pool_size=(2, 2), data_format=IMAGE_ORDERING )(x)\n",
    "    x = Dropout(.25)(x)\n",
    "\n",
    "    x = Conv2D(64,(3, 3),activation = 'relu', padding='same', data_format=IMAGE_ORDERING)(x)\n",
    "    x = BatchNormalization(axis=-1)(x)\n",
    "    x = Conv2D(64,(3, 3),activation = 'relu', padding='same', data_format=IMAGE_ORDERING)(x)\n",
    "    x = BatchNormalization(axis=-1)(x)\n",
    "    x = MaxPooling2D(pool_size=(3, 3), data_format=IMAGE_ORDERING )(x)\n",
    "    x = Dropout(.25)(x)\n",
    "\n",
    "    x = Conv2D(128,(3, 3),activation = 'relu', padding='same', data_format=IMAGE_ORDERING)(x)\n",
    "    x = BatchNormalization(axis=-1)(x)\n",
    "    x = Conv2D(128,(3, 3),activation = 'relu', padding='same', data_format=IMAGE_ORDERING)(x)\n",
    "    x = BatchNormalization(axis=-1)(x)\n",
    "    x = MaxPooling2D(pool_size=(2, 2), data_format=IMAGE_ORDERING )(x)\n",
    "    x = Dropout(.25)(x)\n",
    "    \n",
    "    x = Flatten(name='flatten')(x)\n",
    "    x = Dense(4069, activation='relu', name='fc1')(x)\n",
    "    x = BatchNormalization()(x)\n",
    "    x = Dropout(.5)(x)\n",
    "    \n",
    "    x = Dense(2048, activation='relu', name='fc2')(x)\n",
    "    x = BatchNormalization()(x)\n",
    "    x = Dropout(.3)(x)\n",
    "    \n",
    "    x = Dense(n_class , activation='softmax', name='predictions')(x)\n",
    "    \n",
    "    model = Model(img_input, x)\n",
    "\n",
    "    return model"
   ]
  },
  {
   "cell_type": "code",
   "execution_count": 30,
   "metadata": {},
   "outputs": [
    {
     "name": "stdout",
     "output_type": "stream",
     "text": [
      "_________________________________________________________________\n",
      "Layer (type)                 Output Shape              Param #   \n",
      "=================================================================\n",
      "input_7 (InputLayer)         (None, 128, 128, 3)       0         \n",
      "_________________________________________________________________\n",
      "image_array (Conv2D)         (None, 128, 128, 32)      896       \n",
      "_________________________________________________________________\n",
      "batch_normalization_57 (Batc (None, 128, 128, 32)      128       \n",
      "_________________________________________________________________\n",
      "block3_pool (MaxPooling2D)   (None, 42, 42, 32)        0         \n",
      "_________________________________________________________________\n",
      "dropout_39 (Dropout)         (None, 42, 42, 32)        0         \n",
      "_________________________________________________________________\n",
      "conv2d_37 (Conv2D)           (None, 42, 42, 64)        18496     \n",
      "_________________________________________________________________\n",
      "batch_normalization_58 (Batc (None, 42, 42, 64)        256       \n",
      "_________________________________________________________________\n",
      "conv2d_38 (Conv2D)           (None, 42, 42, 64)        36928     \n",
      "_________________________________________________________________\n",
      "batch_normalization_59 (Batc (None, 42, 42, 64)        256       \n",
      "_________________________________________________________________\n",
      "max_pooling2d_19 (MaxPooling (None, 21, 21, 64)        0         \n",
      "_________________________________________________________________\n",
      "dropout_40 (Dropout)         (None, 21, 21, 64)        0         \n",
      "_________________________________________________________________\n",
      "conv2d_39 (Conv2D)           (None, 21, 21, 64)        36928     \n",
      "_________________________________________________________________\n",
      "batch_normalization_60 (Batc (None, 21, 21, 64)        256       \n",
      "_________________________________________________________________\n",
      "conv2d_40 (Conv2D)           (None, 21, 21, 64)        36928     \n",
      "_________________________________________________________________\n",
      "batch_normalization_61 (Batc (None, 21, 21, 64)        256       \n",
      "_________________________________________________________________\n",
      "max_pooling2d_20 (MaxPooling (None, 7, 7, 64)          0         \n",
      "_________________________________________________________________\n",
      "dropout_41 (Dropout)         (None, 7, 7, 64)          0         \n",
      "_________________________________________________________________\n",
      "conv2d_41 (Conv2D)           (None, 7, 7, 128)         73856     \n",
      "_________________________________________________________________\n",
      "batch_normalization_62 (Batc (None, 7, 7, 128)         512       \n",
      "_________________________________________________________________\n",
      "conv2d_42 (Conv2D)           (None, 7, 7, 128)         147584    \n",
      "_________________________________________________________________\n",
      "batch_normalization_63 (Batc (None, 7, 7, 128)         512       \n",
      "_________________________________________________________________\n",
      "max_pooling2d_21 (MaxPooling (None, 3, 3, 128)         0         \n",
      "_________________________________________________________________\n",
      "dropout_42 (Dropout)         (None, 3, 3, 128)         0         \n",
      "_________________________________________________________________\n",
      "flatten (Flatten)            (None, 1152)              0         \n",
      "_________________________________________________________________\n",
      "fc1 (Dense)                  (None, 4069)              4691557   \n",
      "_________________________________________________________________\n",
      "batch_normalization_64 (Batc (None, 4069)              16276     \n",
      "_________________________________________________________________\n",
      "dropout_43 (Dropout)         (None, 4069)              0         \n",
      "_________________________________________________________________\n",
      "fc2 (Dense)                  (None, 2048)              8335360   \n",
      "_________________________________________________________________\n",
      "batch_normalization_65 (Batc (None, 2048)              8192      \n",
      "_________________________________________________________________\n",
      "dropout_44 (Dropout)         (None, 2048)              0         \n",
      "_________________________________________________________________\n",
      "predictions (Dense)          (None, 6)                 12294     \n",
      "=================================================================\n",
      "Total params: 13,417,471\n",
      "Trainable params: 13,404,149\n",
      "Non-trainable params: 13,322\n",
      "_________________________________________________________________\n"
     ]
    }
   ],
   "source": [
    "model = nn_base(nClasses  = n_class,  \n",
    "             input_height = 128, \n",
    "             input_width  = 128)\n",
    "model.summary()"
   ]
  },
  {
   "cell_type": "code",
   "execution_count": 31,
   "metadata": {
    "scrolled": true
   },
   "outputs": [
    {
     "name": "stdout",
     "output_type": "stream",
     "text": [
      "Train on 4972 samples, validate on 878 samples\n",
      "Epoch 1/25\n",
      "4972/4972 [==============================] - 10s 2ms/step - loss: 2.3698 - acc: 0.4505 - val_loss: 1.3536 - val_acc: 0.5501\n",
      "Epoch 2/25\n",
      "4972/4972 [==============================] - 5s 1ms/step - loss: 1.1076 - acc: 0.6233 - val_loss: 1.0958 - val_acc: 0.6856\n",
      "Epoch 3/25\n",
      "4972/4972 [==============================] - 5s 1ms/step - loss: 0.9030 - acc: 0.7009 - val_loss: 0.8177 - val_acc: 0.7118\n",
      "Epoch 4/25\n",
      "4972/4972 [==============================] - 5s 1ms/step - loss: 0.7580 - acc: 0.7379 - val_loss: 1.0587 - val_acc: 0.6800\n",
      "Epoch 5/25\n",
      "4972/4972 [==============================] - 6s 1ms/step - loss: 0.6846 - acc: 0.7707 - val_loss: 0.6564 - val_acc: 0.7506\n",
      "Epoch 6/25\n",
      "4972/4972 [==============================] - 6s 1ms/step - loss: 0.5580 - acc: 0.8152 - val_loss: 0.6760 - val_acc: 0.7745\n",
      "Epoch 7/25\n",
      "4972/4972 [==============================] - 6s 1ms/step - loss: 0.4990 - acc: 0.8290 - val_loss: 0.5224 - val_acc: 0.8257\n",
      "Epoch 8/25\n",
      "4972/4972 [==============================] - 6s 1ms/step - loss: 0.4854 - acc: 0.8270 - val_loss: 0.8314 - val_acc: 0.7221\n",
      "Epoch 9/25\n",
      "4972/4972 [==============================] - 6s 1ms/step - loss: 0.4171 - acc: 0.8512 - val_loss: 0.3891 - val_acc: 0.8895\n",
      "Epoch 10/25\n",
      "4972/4972 [==============================] - 6s 1ms/step - loss: 0.4252 - acc: 0.8534 - val_loss: 0.5694 - val_acc: 0.8223\n",
      "Epoch 11/25\n",
      "4972/4972 [==============================] - 5s 1ms/step - loss: 0.3841 - acc: 0.8614 - val_loss: 0.4614 - val_acc: 0.8451\n",
      "Epoch 12/25\n",
      "4972/4972 [==============================] - 6s 1ms/step - loss: 0.3878 - acc: 0.8640 - val_loss: 0.4672 - val_acc: 0.8405\n",
      "Epoch 13/25\n",
      "4972/4972 [==============================] - 6s 1ms/step - loss: 0.3459 - acc: 0.8793 - val_loss: 0.5147 - val_acc: 0.8474\n",
      "Epoch 14/25\n",
      "4972/4972 [==============================] - 5s 1ms/step - loss: 0.3331 - acc: 0.8829 - val_loss: 0.4303 - val_acc: 0.8633\n",
      "Epoch 15/25\n",
      "4972/4972 [==============================] - 6s 1ms/step - loss: 0.3418 - acc: 0.8811 - val_loss: 0.4660 - val_acc: 0.8622\n",
      "Epoch 16/25\n",
      "4972/4972 [==============================] - 6s 1ms/step - loss: 0.3092 - acc: 0.8910 - val_loss: 0.4375 - val_acc: 0.8405\n",
      "Epoch 17/25\n",
      "4972/4972 [==============================] - 6s 1ms/step - loss: 0.2883 - acc: 0.9000 - val_loss: 0.4186 - val_acc: 0.8747\n",
      "Epoch 18/25\n",
      "4972/4972 [==============================] - 6s 1ms/step - loss: 0.2884 - acc: 0.9012 - val_loss: 0.5046 - val_acc: 0.8474\n",
      "Epoch 19/25\n",
      "4972/4972 [==============================] - 6s 1ms/step - loss: 0.2657 - acc: 0.9059 - val_loss: 0.3809 - val_acc: 0.8895\n",
      "Epoch 20/25\n",
      "4972/4972 [==============================] - 6s 1ms/step - loss: 0.2650 - acc: 0.9077 - val_loss: 0.5800 - val_acc: 0.8360\n",
      "Epoch 21/25\n",
      "4972/4972 [==============================] - 6s 1ms/step - loss: 0.2722 - acc: 0.9061 - val_loss: 0.4473 - val_acc: 0.8679\n",
      "Epoch 22/25\n",
      "4972/4972 [==============================] - 6s 1ms/step - loss: 0.2569 - acc: 0.9115 - val_loss: 1.7313 - val_acc: 0.5911\n",
      "Epoch 23/25\n",
      "4972/4972 [==============================] - 6s 1ms/step - loss: 0.2570 - acc: 0.9089 - val_loss: 0.4027 - val_acc: 0.8815\n",
      "Epoch 24/25\n",
      "4972/4972 [==============================] - 6s 1ms/step - loss: 0.2358 - acc: 0.9169 - val_loss: 0.4722 - val_acc: 0.8736\n",
      "Epoch 25/25\n",
      "4972/4972 [==============================] - 6s 1ms/step - loss: 0.2081 - acc: 0.9262 - val_loss: 0.4831 - val_acc: 0.8610\n"
     ]
    }
   ],
   "source": [
    "learing_rate = 1E-3\n",
    "epoch = 25\n",
    "with K.tf.device('/gpu:1'):\n",
    "    adam = optimizers.Adam(lr=learing_rate, decay=learing_rate/100)\n",
    "    model.compile(loss='categorical_crossentropy',\n",
    "                  optimizer=adam,\n",
    "                  metrics=['accuracy'])\n",
    "\n",
    "    hist1 = model.fit(X_train,y_train,\n",
    "                      validation_data=(X_test,y_test),\n",
    "                      batch_size=32,epochs=epoch)"
   ]
  },
  {
   "cell_type": "code",
   "execution_count": 33,
   "metadata": {},
   "outputs": [
    {
     "data": {
      "image/png": "[encoded data removed]",
      "text/plain": [
       "<Figure size 432x288 with 1 Axes>"
      ]
     },
     "metadata": {
      "needs_background": "light"
     },
     "output_type": "display_data"
    }
   ],
   "source": [
    "for key in ['loss', 'val_loss']:\n",
    "    plt.plot(hist1.history[key],label=key)\n",
    "plt.legend()\n",
    "plt.show()"
   ]
  },
  {
   "cell_type": "code",
   "execution_count": 34,
   "metadata": {},
   "outputs": [
    {
     "name": "stdout",
     "output_type": "stream",
     "text": [
      "[1 2 3 4 5 6] (2000,)\n"
     ]
    }
   ],
   "source": [
    "y_pred = model.predict(real_test)\n",
    "y_predi = np.argmax(y_pred,axis = 1) + 1\n",
    "print(np.unique(y_predi), y_predi.shape)"
   ]
  },
  {
   "cell_type": "code",
   "execution_count": 35,
   "metadata": {},
   "outputs": [],
   "source": [
    "answer = pd.DataFrame({\"prediction\":y_predi})"
   ]
  },
  {
   "cell_type": "code",
   "execution_count": 36,
   "metadata": {},
   "outputs": [],
   "source": [
    "answer.to_csv('results/6-5.csv',index=False, header=\"label\")"
   ]
  },
  {
   "cell_type": "code",
   "execution_count": null,
   "metadata": {},
   "outputs": [],
   "source": []
  }
 ],
 "metadata": {
  "kernelspec": {
   "display_name": "jobfair",
   "language": "python",
   "name": "vnect"
  },
  "language_info": {
   "codemirror_mode": {
    "name": "ipython",
    "version": 3
   },
   "file_extension": ".py",
   "mimetype": "text/x-python",
   "name": "python",
   "nbconvert_exporter": "python",
   "pygments_lexer": "ipython3",
   "version": "3.5.6"
  }
 },
 "nbformat": 4,
 "nbformat_minor": 2
}
