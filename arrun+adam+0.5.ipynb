{
 "cells": [
  {
   "cell_type": "markdown",
   "metadata": {},
   "source": [
    "###  점"
   ]
  },
  {
   "cell_type": "code",
   "execution_count": 30,
   "metadata": {},
   "outputs": [],
   "source": [
    "import warnings\n",
    "import pandas as pd\n",
    "import numpy as np\n",
    "import cv2\n",
    "import matplotlib.pyplot as plt\n",
    "\n",
    "from keras.models import Model\n",
    "from keras.layers import Flatten, Dense, Input, Conv2D, MaxPooling2D, BatchNormalization\n",
    "from keras.layers import GlobalAveragePooling2D, GlobalMaxPooling2D, Dropout, Activation, regularizers\n",
    "from keras.engine.topology import get_source_inputs\n",
    "from keras.utils import layer_utils, to_categorical\n",
    "from keras import backend as K\n",
    "from keras import optimizers"
   ]
  },
  {
   "cell_type": "code",
   "execution_count": 17,
   "metadata": {},
   "outputs": [
    {
     "name": "stdout",
     "output_type": "stream",
     "text": [
      "5850 5850 2000\n"
     ]
    }
   ],
   "source": [
    "# load dataset list\n",
    "\n",
    "train_data = pd.read_csv(\"train_vision.csv\")\n",
    "train_filename = train_data[\"filename\"].values.tolist()\n",
    "train_data[\"label\"] = train_data[\"label\"] -1\n",
    "train_label = train_data[\"label\"].values.tolist()\n",
    "\n",
    "test_data = pd.read_csv(\"test_vision.csv\")\n",
    "test_filename = test_data[\"filename\"].values.tolist()\n",
    "\n",
    "print(len(train_filename), len(train_label), len(test_filename))"
   ]
  },
  {
   "cell_type": "code",
   "execution_count": 18,
   "metadata": {},
   "outputs": [
    {
     "name": "stdout",
     "output_type": "stream",
     "text": [
      "(5850, 128, 128, 3) (5850, 6)\n"
     ]
    }
   ],
   "source": [
    "# load train data\n",
    "input_height , input_width = 128, 128\n",
    "n_class = 6\n",
    "\n",
    "def getImageArr(img_name):\n",
    "        img = cv2.imread(\"faces_images/\" + img_name, 1)\n",
    "        img = np.float32(img) / 255  #0~255 를 평균 0이게 수정\n",
    "        return img\n",
    "\n",
    "X = []\n",
    "for name in train_filename:\n",
    "    X.append(getImageArr(name))\n",
    "    \n",
    "X, Y = np.array(X), to_categorical(np.array(train_label),n_class)\n",
    "print(X.shape, Y.shape)"
   ]
  },
  {
   "cell_type": "code",
   "execution_count": 19,
   "metadata": {
    "scrolled": true
   },
   "outputs": [
    {
     "name": "stdout",
     "output_type": "stream",
     "text": [
      "(4972, 128, 128, 3) (4972, 6)\n",
      "(878, 128, 128, 3) (878, 6)\n"
     ]
    }
   ],
   "source": [
    "# split dataset\n",
    "\n",
    "train_rate = 0.85\n",
    "index_train = np.random.choice(X.shape[0],int(X.shape[0]*train_rate),replace=False)\n",
    "index_test  = list(set(range(X.shape[0])) - set(index_train))\n",
    "                            \n",
    "# X, Y = shuffle(X,Y)\n",
    "X_train, y_train = X[index_train],Y[index_train]\n",
    "X_test, y_test = X[index_test],Y[index_test]\n",
    "print(X_train.shape, y_train.shape)\n",
    "print(X_test.shape, y_test.shape)"
   ]
  },
  {
   "cell_type": "code",
   "execution_count": 20,
   "metadata": {},
   "outputs": [
    {
     "name": "stdout",
     "output_type": "stream",
     "text": [
      "(2000, 128, 128, 3)\n"
     ]
    }
   ],
   "source": [
    "# load test data\n",
    "\n",
    "real_test = []\n",
    "for name in test_filename:\n",
    "    real_test.append(getImageArr(name))\n",
    "    \n",
    "real_test = np.array(real_test)\n",
    "print(real_test.shape)"
   ]
  },
  {
   "cell_type": "code",
   "execution_count": 45,
   "metadata": {},
   "outputs": [],
   "source": [
    " def nn_base(nClasses, input_height=128, input_width=128):\n",
    "        \n",
    "    img_input = Input(shape=(input_height,input_width, 3))\n",
    "        \n",
    "    IMAGE_ORDERING =  \"channels_last\"\n",
    "    \n",
    "    x = Conv2D(32,(3, 3),padding='same', name='image_array', data_format=IMAGE_ORDERING)(img_input)\n",
    "    x = BatchNormalization()(x)\n",
    "    x = Activation('relu')(x)\n",
    "    x = MaxPooling2D(pool_size=(3, 3), name='block3_pool', data_format=IMAGE_ORDERING )(x)\n",
    "    x = Dropout(0.25)(x)\n",
    "\n",
    "    x = Conv2D(64,(3, 3), padding='same', data_format=IMAGE_ORDERING)(x)\n",
    "    x = BatchNormalization()(x)\n",
    "    x = Activation('relu')(x)\n",
    "    x = Conv2D(64,(3, 3), padding='same', data_format=IMAGE_ORDERING)(x)\n",
    "    x = BatchNormalization()(x)\n",
    "    x = Activation('relu')(x)\n",
    "    x = MaxPooling2D(pool_size=(2, 2), data_format=IMAGE_ORDERING )(x)\n",
    "    x = Dropout(.25)(x)\n",
    "\n",
    "    x = Conv2D(64,(3, 3), padding='same', data_format=IMAGE_ORDERING)(x)\n",
    "    x = BatchNormalization()(x)\n",
    "    x = Activation('relu')(x)\n",
    "    x = Conv2D(64,(3, 3), padding='same', data_format=IMAGE_ORDERING)(x)\n",
    "    x = BatchNormalization()(x)\n",
    "    x = Activation('relu')(x)\n",
    "    x = MaxPooling2D(pool_size=(3, 3), data_format=IMAGE_ORDERING )(x)\n",
    "    x = Dropout(.25)(x)\n",
    "\n",
    "    x = Conv2D(128,(3, 3), padding='same', data_format=IMAGE_ORDERING)(x)\n",
    "    x = Activation('relu')(x)\n",
    "    x = BatchNormalization()(x)\n",
    "    x = Conv2D(128,(3, 3), padding='same', data_format=IMAGE_ORDERING)(x)\n",
    "    x = BatchNormalization()(x)\n",
    "    x = Activation('relu')(x)\n",
    "    x = MaxPooling2D(pool_size=(2, 2), data_format=IMAGE_ORDERING )(x)\n",
    "    x = Dropout(.25)(x)\n",
    "    \n",
    "    x = Flatten(name='flatten')(x)\n",
    "    \n",
    "    x = Dense(2048, activation='relu', name='fc2')(x)\n",
    "    x = BatchNormalization()(x)\n",
    "    x = Dropout(.5)(x)\n",
    "    \n",
    "    x = Dense(512, activation='relu', name='fc3')(x)\n",
    "    x = BatchNormalization()(x)\n",
    "    x = Dropout(.3)(x)\n",
    "    \n",
    "    x = Dense(n_class , activation='softmax', name='predictions')(x)\n",
    "    \n",
    "    model = Model(img_input, x)\n",
    "\n",
    "    return model"
   ]
  },
  {
   "cell_type": "code",
   "execution_count": 46,
   "metadata": {},
   "outputs": [
    {
     "name": "stdout",
     "output_type": "stream",
     "text": [
      "_________________________________________________________________\n",
      "Layer (type)                 Output Shape              Param #   \n",
      "=================================================================\n",
      "input_11 (InputLayer)        (None, 128, 128, 3)       0         \n",
      "_________________________________________________________________\n",
      "image_array (Conv2D)         (None, 128, 128, 32)      896       \n",
      "_________________________________________________________________\n",
      "batch_normalization_94 (Batc (None, 128, 128, 32)      128       \n",
      "_________________________________________________________________\n",
      "activation_50 (Activation)   (None, 128, 128, 32)      0         \n",
      "_________________________________________________________________\n",
      "block3_pool (MaxPooling2D)   (None, 42, 42, 32)        0         \n",
      "_________________________________________________________________\n",
      "dropout_55 (Dropout)         (None, 42, 42, 32)        0         \n",
      "_________________________________________________________________\n",
      "conv2d_61 (Conv2D)           (None, 42, 42, 64)        18496     \n",
      "_________________________________________________________________\n",
      "batch_normalization_95 (Batc (None, 42, 42, 64)        256       \n",
      "_________________________________________________________________\n",
      "activation_51 (Activation)   (None, 42, 42, 64)        0         \n",
      "_________________________________________________________________\n",
      "conv2d_62 (Conv2D)           (None, 42, 42, 64)        36928     \n",
      "_________________________________________________________________\n",
      "batch_normalization_96 (Batc (None, 42, 42, 64)        256       \n",
      "_________________________________________________________________\n",
      "activation_52 (Activation)   (None, 42, 42, 64)        0         \n",
      "_________________________________________________________________\n",
      "max_pooling2d_31 (MaxPooling (None, 21, 21, 64)        0         \n",
      "_________________________________________________________________\n",
      "dropout_56 (Dropout)         (None, 21, 21, 64)        0         \n",
      "_________________________________________________________________\n",
      "conv2d_63 (Conv2D)           (None, 21, 21, 64)        36928     \n",
      "_________________________________________________________________\n",
      "batch_normalization_97 (Batc (None, 21, 21, 64)        256       \n",
      "_________________________________________________________________\n",
      "activation_53 (Activation)   (None, 21, 21, 64)        0         \n",
      "_________________________________________________________________\n",
      "conv2d_64 (Conv2D)           (None, 21, 21, 64)        36928     \n",
      "_________________________________________________________________\n",
      "batch_normalization_98 (Batc (None, 21, 21, 64)        256       \n",
      "_________________________________________________________________\n",
      "activation_54 (Activation)   (None, 21, 21, 64)        0         \n",
      "_________________________________________________________________\n",
      "max_pooling2d_32 (MaxPooling (None, 7, 7, 64)          0         \n",
      "_________________________________________________________________\n",
      "dropout_57 (Dropout)         (None, 7, 7, 64)          0         \n",
      "_________________________________________________________________\n",
      "conv2d_65 (Conv2D)           (None, 7, 7, 128)         73856     \n",
      "_________________________________________________________________\n",
      "activation_55 (Activation)   (None, 7, 7, 128)         0         \n",
      "_________________________________________________________________\n",
      "batch_normalization_99 (Batc (None, 7, 7, 128)         512       \n",
      "_________________________________________________________________\n",
      "conv2d_66 (Conv2D)           (None, 7, 7, 128)         147584    \n",
      "_________________________________________________________________\n",
      "batch_normalization_100 (Bat (None, 7, 7, 128)         512       \n",
      "_________________________________________________________________\n",
      "activation_56 (Activation)   (None, 7, 7, 128)         0         \n",
      "_________________________________________________________________\n",
      "max_pooling2d_33 (MaxPooling (None, 3, 3, 128)         0         \n",
      "_________________________________________________________________\n",
      "dropout_58 (Dropout)         (None, 3, 3, 128)         0         \n",
      "_________________________________________________________________\n",
      "flatten (Flatten)            (None, 1152)              0         \n",
      "_________________________________________________________________\n",
      "fc2 (Dense)                  (None, 2048)              2361344   \n",
      "_________________________________________________________________\n",
      "batch_normalization_101 (Bat (None, 2048)              8192      \n",
      "_________________________________________________________________\n",
      "dropout_59 (Dropout)         (None, 2048)              0         \n",
      "_________________________________________________________________\n",
      "fc3 (Dense)                  (None, 512)               1049088   \n",
      "_________________________________________________________________\n",
      "batch_normalization_102 (Bat (None, 512)               2048      \n",
      "_________________________________________________________________\n",
      "dropout_60 (Dropout)         (None, 512)               0         \n",
      "_________________________________________________________________\n",
      "predictions (Dense)          (None, 6)                 3078      \n",
      "=================================================================\n",
      "Total params: 3,777,542\n",
      "Trainable params: 3,771,334\n",
      "Non-trainable params: 6,208\n",
      "_________________________________________________________________\n"
     ]
    }
   ],
   "source": [
    "model = nn_base(nClasses  = n_class,  \n",
    "             input_height = 128, \n",
    "             input_width  = 128)\n",
    "model.summary()"
   ]
  },
  {
   "cell_type": "code",
   "execution_count": 47,
   "metadata": {
    "scrolled": true
   },
   "outputs": [
    {
     "name": "stdout",
     "output_type": "stream",
     "text": [
      "Train on 4972 samples, validate on 878 samples\n",
      "Epoch 1/25\n",
      "4972/4972 [==============================] - 12s 2ms/step - loss: 1.8293 - acc: 0.4290 - val_loss: 1.1147 - val_acc: 0.5683\n",
      "Epoch 2/25\n",
      "4972/4972 [==============================] - 5s 1ms/step - loss: 1.0745 - acc: 0.6167 - val_loss: 0.7373 - val_acc: 0.7335\n",
      "Epoch 3/25\n",
      "4972/4972 [==============================] - 5s 1ms/step - loss: 0.7989 - acc: 0.7120 - val_loss: 1.8712 - val_acc: 0.3428\n",
      "Epoch 4/25\n",
      "4972/4972 [==============================] - 5s 1ms/step - loss: 0.6344 - acc: 0.7683 - val_loss: 0.7207 - val_acc: 0.7255\n",
      "Epoch 5/25\n",
      "4972/4972 [==============================] - 5s 1ms/step - loss: 0.5446 - acc: 0.8017 - val_loss: 0.5048 - val_acc: 0.8360\n",
      "Epoch 6/25\n",
      "4972/4972 [==============================] - 5s 1ms/step - loss: 0.4625 - acc: 0.8363 - val_loss: 0.3650 - val_acc: 0.8815\n",
      "Epoch 7/25\n",
      "4972/4972 [==============================] - 5s 1ms/step - loss: 0.4261 - acc: 0.8459 - val_loss: 0.5285 - val_acc: 0.8155\n",
      "Epoch 8/25\n",
      "4972/4972 [==============================] - 5s 1ms/step - loss: 0.4068 - acc: 0.8612 - val_loss: 1.0368 - val_acc: 0.6002\n",
      "Epoch 9/25\n",
      "4972/4972 [==============================] - 5s 1ms/step - loss: 0.3882 - acc: 0.8612 - val_loss: 0.8404 - val_acc: 0.6902\n",
      "Epoch 10/25\n",
      "4972/4972 [==============================] - 5s 1ms/step - loss: 0.3616 - acc: 0.8634 - val_loss: 1.1169 - val_acc: 0.6162\n",
      "Epoch 11/25\n",
      "4972/4972 [==============================] - 5s 1ms/step - loss: 0.3450 - acc: 0.8779 - val_loss: 0.5506 - val_acc: 0.8349\n",
      "Epoch 12/25\n",
      "4972/4972 [==============================] - 5s 1ms/step - loss: 0.3543 - acc: 0.8745 - val_loss: 0.5389 - val_acc: 0.8405\n",
      "Epoch 13/25\n",
      "4972/4972 [==============================] - 5s 1ms/step - loss: 0.3287 - acc: 0.8789 - val_loss: 0.5086 - val_acc: 0.8212\n",
      "Epoch 14/25\n",
      "4972/4972 [==============================] - 5s 1ms/step - loss: 0.2996 - acc: 0.8906 - val_loss: 0.3095 - val_acc: 0.9077\n",
      "Epoch 15/25\n",
      "4972/4972 [==============================] - 5s 1ms/step - loss: 0.3195 - acc: 0.8874 - val_loss: 0.3327 - val_acc: 0.8884\n",
      "Epoch 16/25\n",
      "4972/4972 [==============================] - 5s 1ms/step - loss: 0.2935 - acc: 0.8908 - val_loss: 0.4338 - val_acc: 0.8565\n",
      "Epoch 17/25\n",
      "4972/4972 [==============================] - 5s 1ms/step - loss: 0.2837 - acc: 0.9000 - val_loss: 0.4830 - val_acc: 0.8497\n",
      "Epoch 18/25\n",
      "4972/4972 [==============================] - 5s 1ms/step - loss: 0.2841 - acc: 0.9025 - val_loss: 0.3889 - val_acc: 0.8759\n",
      "Epoch 19/25\n",
      "4972/4972 [==============================] - 5s 1ms/step - loss: 0.2734 - acc: 0.9012 - val_loss: 0.4067 - val_acc: 0.8724\n",
      "Epoch 20/25\n",
      "4972/4972 [==============================] - 5s 1ms/step - loss: 0.2680 - acc: 0.9006 - val_loss: 0.6146 - val_acc: 0.8030\n",
      "Epoch 21/25\n",
      "4972/4972 [==============================] - 5s 1ms/step - loss: 0.2351 - acc: 0.9139 - val_loss: 0.3500 - val_acc: 0.8975\n",
      "Epoch 22/25\n",
      "4972/4972 [==============================] - 5s 1ms/step - loss: 0.2641 - acc: 0.9023 - val_loss: 0.5656 - val_acc: 0.8269\n",
      "Epoch 23/25\n",
      "4972/4972 [==============================] - 5s 1ms/step - loss: 0.2421 - acc: 0.9123 - val_loss: 0.4136 - val_acc: 0.8781\n",
      "Epoch 24/25\n",
      "4972/4972 [==============================] - 5s 1ms/step - loss: 0.2481 - acc: 0.9109 - val_loss: 0.3655 - val_acc: 0.8907\n",
      "Epoch 25/25\n",
      "4972/4972 [==============================] - 5s 1ms/step - loss: 0.2232 - acc: 0.9210 - val_loss: 0.4410 - val_acc: 0.8622\n"
     ]
    }
   ],
   "source": [
    "learing_rate = 1E-3\n",
    "epoch = 25\n",
    "with K.tf.device('/gpu:1'):\n",
    "    adam = optimizers.Adam(lr=learing_rate, decay=learing_rate/100)\n",
    "    model.compile(loss='categorical_crossentropy',\n",
    "                  optimizer=adam,\n",
    "                  metrics=['accuracy'])\n",
    "\n",
    "    hist1 = model.fit(X_train,y_train,\n",
    "                      validation_data=(X_test,y_test),\n",
    "                      batch_size=32,epochs=epoch)"
   ]
  },
  {
   "cell_type": "code",
   "execution_count": 41,
   "metadata": {},
   "outputs": [
    {
     "data": {
      "image/png": "[encoded data removed]",
      "text/plain": [
       "<Figure size 432x288 with 1 Axes>"
      ]
     },
     "metadata": {
      "needs_background": "light"
     },
     "output_type": "display_data"
    }
   ],
   "source": [
    "for key in ['loss', 'val_loss']:\n",
    "    plt.plot(hist1.history[key],label=key)\n",
    "plt.legend()\n",
    "plt.show()"
   ]
  },
  {
   "cell_type": "code",
   "execution_count": 11,
   "metadata": {},
   "outputs": [
    {
     "name": "stdout",
     "output_type": "stream",
     "text": [
      "[1 2 3 4 5 6] (2000,)\n"
     ]
    }
   ],
   "source": [
    "y_pred = model.predict(real_test)\n",
    "y_predi = np.argmax(y_pred,axis = 1) + 1\n",
    "print(np.unique(y_predi), y_predi.shape)"
   ]
  },
  {
   "cell_type": "code",
   "execution_count": 12,
   "metadata": {},
   "outputs": [],
   "source": [
    "answer = pd.DataFrame({\"prediction\":y_predi})"
   ]
  },
  {
   "cell_type": "code",
   "execution_count": 13,
   "metadata": {},
   "outputs": [],
   "source": [
    "answer.to_csv('results/6-5.csv',index=False, header=\"label\")"
   ]
  },
  {
   "cell_type": "code",
   "execution_count": null,
   "metadata": {},
   "outputs": [],
   "source": []
  }
 ],
 "metadata": {
  "kernelspec": {
   "display_name": "jobfair",
   "language": "python",
   "name": "vnect"
  },
  "language_info": {
   "codemirror_mode": {
    "name": "ipython",
    "version": 3
   },
   "file_extension": ".py",
   "mimetype": "text/x-python",
   "name": "python",
   "nbconvert_exporter": "python",
   "pygments_lexer": "ipython3",
   "version": "3.5.6"
  }
 },
 "nbformat": 4,
 "nbformat_minor": 2
}
