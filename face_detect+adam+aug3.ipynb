{
 "cells": [
  {
   "cell_type": "markdown",
   "metadata": {},
   "source": [
    "## 86.5점"
   ]
  },
  {
   "cell_type": "code",
   "execution_count": 1,
   "metadata": {},
   "outputs": [
    {
     "name": "stderr",
     "output_type": "stream",
     "text": [
      "Using TensorFlow backend.\n",
      "/home/pirl/anaconda3/envs/vnect/lib/python3.5/site-packages/tensorflow/python/framework/dtypes.py:523: FutureWarning: Passing (type, 1) or '1type' as a synonym of type is deprecated; in a future version of numpy, it will be understood as (type, (1,)) / '(1,)type'.\n",
      "  _np_qint8 = np.dtype([(\"qint8\", np.int8, 1)])\n",
      "/home/pirl/anaconda3/envs/vnect/lib/python3.5/site-packages/tensorflow/python/framework/dtypes.py:524: FutureWarning: Passing (type, 1) or '1type' as a synonym of type is deprecated; in a future version of numpy, it will be understood as (type, (1,)) / '(1,)type'.\n",
      "  _np_quint8 = np.dtype([(\"quint8\", np.uint8, 1)])\n",
      "/home/pirl/anaconda3/envs/vnect/lib/python3.5/site-packages/tensorflow/python/framework/dtypes.py:525: FutureWarning: Passing (type, 1) or '1type' as a synonym of type is deprecated; in a future version of numpy, it will be understood as (type, (1,)) / '(1,)type'.\n",
      "  _np_qint16 = np.dtype([(\"qint16\", np.int16, 1)])\n",
      "/home/pirl/anaconda3/envs/vnect/lib/python3.5/site-packages/tensorflow/python/framework/dtypes.py:526: FutureWarning: Passing (type, 1) or '1type' as a synonym of type is deprecated; in a future version of numpy, it will be understood as (type, (1,)) / '(1,)type'.\n",
      "  _np_quint16 = np.dtype([(\"quint16\", np.uint16, 1)])\n",
      "/home/pirl/anaconda3/envs/vnect/lib/python3.5/site-packages/tensorflow/python/framework/dtypes.py:527: FutureWarning: Passing (type, 1) or '1type' as a synonym of type is deprecated; in a future version of numpy, it will be understood as (type, (1,)) / '(1,)type'.\n",
      "  _np_qint32 = np.dtype([(\"qint32\", np.int32, 1)])\n",
      "/home/pirl/anaconda3/envs/vnect/lib/python3.5/site-packages/tensorflow/python/framework/dtypes.py:532: FutureWarning: Passing (type, 1) or '1type' as a synonym of type is deprecated; in a future version of numpy, it will be understood as (type, (1,)) / '(1,)type'.\n",
      "  np_resource = np.dtype([(\"resource\", np.ubyte, 1)])\n"
     ]
    }
   ],
   "source": [
    "import warnings\n",
    "import pandas as pd\n",
    "import numpy as np\n",
    "import cv2\n",
    "import matplotlib.pyplot as plt\n",
    "\n",
    "from keras.models import Model\n",
    "from keras.layers import Flatten, Dense, Input, Conv2D, MaxPooling2D,Dropout, BatchNormalization, Activation\n",
    "from keras.layers import GlobalAveragePooling2D, GlobalMaxPooling2D,AveragePooling2D\n",
    "from keras.engine.topology import get_source_inputs\n",
    "from keras.utils import layer_utils, to_categorical\n",
    "from keras import backend as K\n",
    "from keras import optimizers"
   ]
  },
  {
   "cell_type": "code",
   "execution_count": 2,
   "metadata": {},
   "outputs": [
    {
     "name": "stdout",
     "output_type": "stream",
     "text": [
      "17548 17548 2000\n"
     ]
    }
   ],
   "source": [
    "# load dataset list\n",
    "\n",
    "train_data = pd.read_csv(\"train_vision_aug_1.csv\")\n",
    "train_filename = train_data[\"filename\"].values.tolist()\n",
    "train_data[\"label\"] = train_data[\"label\"] -1\n",
    "train_label = train_data[\"label\"].values.tolist()\n",
    "\n",
    "test_data = pd.read_csv(\"test_vision.csv\")\n",
    "test_filename = test_data[\"filename\"].values.tolist()\n",
    "\n",
    "print(len(train_filename), len(train_label), len(test_filename))"
   ]
  },
  {
   "cell_type": "code",
   "execution_count": 3,
   "metadata": {},
   "outputs": [
    {
     "name": "stdout",
     "output_type": "stream",
     "text": [
      "(17548, 128, 128, 3) (17548, 6)\n"
     ]
    }
   ],
   "source": [
    "# load train data\n",
    "input_height , input_width = 128, 128\n",
    "n_class = 6\n",
    "\n",
    "def getImageArr(img_name):\n",
    "        img = cv2.imread(\"faces_images/\" + img_name, 1)\n",
    "        img = np.float32(img) / 127.5 - 1   #0~255 를 평균 0이게 수정\n",
    "        return img\n",
    "\n",
    "X = []\n",
    "for name in train_filename:\n",
    "    X.append(getImageArr(name))\n",
    "    \n",
    "X, Y = np.array(X), to_categorical(np.array(train_label),n_class)\n",
    "print(X.shape, Y.shape)"
   ]
  },
  {
   "cell_type": "code",
   "execution_count": 4,
   "metadata": {
    "scrolled": true
   },
   "outputs": [
    {
     "name": "stdout",
     "output_type": "stream",
     "text": [
      "(14038, 128, 128, 3) (14038, 6)\n",
      "(3510, 128, 128, 3) (3510, 6)\n"
     ]
    }
   ],
   "source": [
    "# split dataset\n",
    "\n",
    "train_rate = 0.8\n",
    "index_train = np.random.choice(X.shape[0],int(X.shape[0]*train_rate),replace=False)\n",
    "index_test  = list(set(range(X.shape[0])) - set(index_train))\n",
    "                            \n",
    "# X, Y = shuffle(X,Y)\n",
    "X_train, y_train = X[index_train],Y[index_train]\n",
    "X_test, y_test = X[index_test],Y[index_test]\n",
    "print(X_train.shape, y_train.shape)\n",
    "print(X_test.shape, y_test.shape)"
   ]
  },
  {
   "cell_type": "code",
   "execution_count": 5,
   "metadata": {},
   "outputs": [
    {
     "name": "stdout",
     "output_type": "stream",
     "text": [
      "(2000, 128, 128, 3)\n"
     ]
    }
   ],
   "source": [
    "# load test data\n",
    "\n",
    "real_test = []\n",
    "for name in test_filename:\n",
    "    real_test.append(getImageArr(name))\n",
    "    \n",
    "real_test = np.array(real_test)\n",
    "print(real_test.shape)"
   ]
  },
  {
   "cell_type": "code",
   "execution_count": 6,
   "metadata": {},
   "outputs": [],
   "source": [
    " def nn_base(nClasses, input_height=128, input_width=128):\n",
    "        \n",
    "    img_input = Input(shape=(input_height,input_width, 3))\n",
    "        \n",
    "    IMAGE_ORDERING =  \"channels_last\"\n",
    "    \n",
    "    x = Conv2D(filters=16, kernel_size=(7, 7), padding='same', name='image_array', data_format=IMAGE_ORDERING)(img_input)\n",
    "    x = BatchNormalization()(x)\n",
    "    x = Conv2D(filters=16, kernel_size=(7, 7), padding='same', data_format=IMAGE_ORDERING)(x)\n",
    "    x = BatchNormalization()(x)\n",
    "    x = Activation('relu')(x)\n",
    "    x = AveragePooling2D(pool_size=(2, 2), padding='same', data_format=IMAGE_ORDERING)(x)\n",
    "    x = Dropout(.5)(x)\n",
    "\n",
    "    x = Conv2D(filters=32, kernel_size=(5, 5), padding='same', data_format=IMAGE_ORDERING)(x)\n",
    "    x = BatchNormalization()(x)\n",
    "    x = Conv2D(filters=32, kernel_size=(5, 5), padding='same', data_format=IMAGE_ORDERING)(x)\n",
    "    x = BatchNormalization()(x)\n",
    "    x = Activation('relu')(x)\n",
    "    x = AveragePooling2D(pool_size=(2, 2), padding='same')(x)\n",
    "    x = Dropout(.5)(x)\n",
    "\n",
    "    x = Conv2D(filters=64, kernel_size=(3, 3), padding='same', data_format=IMAGE_ORDERING)(x)\n",
    "    x = BatchNormalization()(x)\n",
    "    x = Conv2D(filters=64, kernel_size=(3, 3), padding='same', data_format=IMAGE_ORDERING)(x)\n",
    "    x = BatchNormalization()(x)\n",
    "    x = Activation('relu')(x)\n",
    "    x = AveragePooling2D(pool_size=(2, 2), padding='same', data_format=IMAGE_ORDERING)(x)\n",
    "    x = Dropout(.5)(x)\n",
    "\n",
    "    x = Conv2D(filters=128, kernel_size=(3, 3), padding='same', data_format=IMAGE_ORDERING)(x)\n",
    "    x = BatchNormalization()(x)\n",
    "    x = Conv2D(filters=128, kernel_size=(3, 3), padding='same', data_format=IMAGE_ORDERING)(x)\n",
    "    x = BatchNormalization()(x)\n",
    "    x = Activation('relu')(x)\n",
    "    x = AveragePooling2D(pool_size=(2, 2), padding='same', data_format=IMAGE_ORDERING)(x)\n",
    "    x = Dropout(.5)(x)\n",
    "\n",
    "    x = Conv2D(filters=256, kernel_size=(3, 3), padding='same', data_format=IMAGE_ORDERING)(x)\n",
    "    x = BatchNormalization()(x)\n",
    "    x = Conv2D(filters=nClasses, kernel_size=(3, 3), padding='same', data_format=IMAGE_ORDERING)(x)\n",
    "    x = GlobalAveragePooling2D(data_format=IMAGE_ORDERING)(x)\n",
    "    x = Activation('softmax', name='predictions')(x)\n",
    "    \n",
    "    model = Model(img_input, x)\n",
    "    \n",
    "    return model"
   ]
  },
  {
   "cell_type": "code",
   "execution_count": 7,
   "metadata": {},
   "outputs": [
    {
     "name": "stdout",
     "output_type": "stream",
     "text": [
      "_________________________________________________________________\n",
      "Layer (type)                 Output Shape              Param #   \n",
      "=================================================================\n",
      "input_1 (InputLayer)         (None, 128, 128, 3)       0         \n",
      "_________________________________________________________________\n",
      "image_array (Conv2D)         (None, 128, 128, 16)      2368      \n",
      "_________________________________________________________________\n",
      "batch_normalization_1 (Batch (None, 128, 128, 16)      64        \n",
      "_________________________________________________________________\n",
      "conv2d_1 (Conv2D)            (None, 128, 128, 16)      12560     \n",
      "_________________________________________________________________\n",
      "batch_normalization_2 (Batch (None, 128, 128, 16)      64        \n",
      "_________________________________________________________________\n",
      "activation_1 (Activation)    (None, 128, 128, 16)      0         \n",
      "_________________________________________________________________\n",
      "average_pooling2d_1 (Average (None, 64, 64, 16)        0         \n",
      "_________________________________________________________________\n",
      "dropout_1 (Dropout)          (None, 64, 64, 16)        0         \n",
      "_________________________________________________________________\n",
      "conv2d_2 (Conv2D)            (None, 64, 64, 32)        12832     \n",
      "_________________________________________________________________\n",
      "batch_normalization_3 (Batch (None, 64, 64, 32)        128       \n",
      "_________________________________________________________________\n",
      "conv2d_3 (Conv2D)            (None, 64, 64, 32)        25632     \n",
      "_________________________________________________________________\n",
      "batch_normalization_4 (Batch (None, 64, 64, 32)        128       \n",
      "_________________________________________________________________\n",
      "activation_2 (Activation)    (None, 64, 64, 32)        0         \n",
      "_________________________________________________________________\n",
      "average_pooling2d_2 (Average (None, 32, 32, 32)        0         \n",
      "_________________________________________________________________\n",
      "dropout_2 (Dropout)          (None, 32, 32, 32)        0         \n",
      "_________________________________________________________________\n",
      "conv2d_4 (Conv2D)            (None, 32, 32, 64)        18496     \n",
      "_________________________________________________________________\n",
      "batch_normalization_5 (Batch (None, 32, 32, 64)        256       \n",
      "_________________________________________________________________\n",
      "conv2d_5 (Conv2D)            (None, 32, 32, 64)        36928     \n",
      "_________________________________________________________________\n",
      "batch_normalization_6 (Batch (None, 32, 32, 64)        256       \n",
      "_________________________________________________________________\n",
      "activation_3 (Activation)    (None, 32, 32, 64)        0         \n",
      "_________________________________________________________________\n",
      "average_pooling2d_3 (Average (None, 16, 16, 64)        0         \n",
      "_________________________________________________________________\n",
      "dropout_3 (Dropout)          (None, 16, 16, 64)        0         \n",
      "_________________________________________________________________\n",
      "conv2d_6 (Conv2D)            (None, 16, 16, 128)       73856     \n",
      "_________________________________________________________________\n",
      "batch_normalization_7 (Batch (None, 16, 16, 128)       512       \n",
      "_________________________________________________________________\n",
      "conv2d_7 (Conv2D)            (None, 16, 16, 128)       147584    \n",
      "_________________________________________________________________\n",
      "batch_normalization_8 (Batch (None, 16, 16, 128)       512       \n",
      "_________________________________________________________________\n",
      "activation_4 (Activation)    (None, 16, 16, 128)       0         \n",
      "_________________________________________________________________\n",
      "average_pooling2d_4 (Average (None, 8, 8, 128)         0         \n",
      "_________________________________________________________________\n",
      "dropout_4 (Dropout)          (None, 8, 8, 128)         0         \n",
      "_________________________________________________________________\n",
      "conv2d_8 (Conv2D)            (None, 8, 8, 256)         295168    \n",
      "_________________________________________________________________\n",
      "batch_normalization_9 (Batch (None, 8, 8, 256)         1024      \n",
      "_________________________________________________________________\n",
      "conv2d_9 (Conv2D)            (None, 8, 8, 6)           13830     \n",
      "_________________________________________________________________\n",
      "global_average_pooling2d_1 ( (None, 6)                 0         \n",
      "_________________________________________________________________\n",
      "predictions (Activation)     (None, 6)                 0         \n",
      "=================================================================\n",
      "Total params: 642,198\n",
      "Trainable params: 640,726\n",
      "Non-trainable params: 1,472\n",
      "_________________________________________________________________\n"
     ]
    }
   ],
   "source": [
    "model = nn_base(nClasses  = n_class,  \n",
    "             input_height = 128, \n",
    "             input_width  = 128)\n",
    "model.summary()"
   ]
  },
  {
   "cell_type": "code",
   "execution_count": 9,
   "metadata": {},
   "outputs": [
    {
     "name": "stdout",
     "output_type": "stream",
     "text": [
      "Train on 14038 samples, validate on 3510 samples\n",
      "Epoch 1/20\n",
      "14038/14038 [==============================] - 22s 2ms/step - loss: 0.6651 - acc: 0.7621 - val_loss: 0.5116 - val_acc: 0.8100\n",
      "Epoch 2/20\n",
      "14038/14038 [==============================] - 20s 1ms/step - loss: 0.5114 - acc: 0.8181 - val_loss: 0.5132 - val_acc: 0.8066\n",
      "Epoch 3/20\n",
      "14038/14038 [==============================] - 21s 1ms/step - loss: 0.4494 - acc: 0.8353 - val_loss: 0.5038 - val_acc: 0.8151\n",
      "Epoch 4/20\n",
      "14038/14038 [==============================] - 21s 2ms/step - loss: 0.4086 - acc: 0.8565 - val_loss: 0.4019 - val_acc: 0.8470\n",
      "Epoch 5/20\n",
      "14038/14038 [==============================] - 21s 2ms/step - loss: 0.3866 - acc: 0.8591 - val_loss: 0.3718 - val_acc: 0.8766\n",
      "Epoch 6/20\n",
      "14038/14038 [==============================] - 21s 2ms/step - loss: 0.3730 - acc: 0.8638 - val_loss: 0.3619 - val_acc: 0.8738\n",
      "Epoch 7/20\n",
      "14038/14038 [==============================] - 21s 2ms/step - loss: 0.3512 - acc: 0.8761 - val_loss: 0.3064 - val_acc: 0.8909\n",
      "Epoch 8/20\n",
      "14038/14038 [==============================] - 21s 1ms/step - loss: 0.3390 - acc: 0.8814 - val_loss: 0.3172 - val_acc: 0.8840\n",
      "Epoch 9/20\n",
      "14038/14038 [==============================] - 21s 2ms/step - loss: 0.3258 - acc: 0.8838 - val_loss: 0.2972 - val_acc: 0.8892\n",
      "Epoch 10/20\n",
      "14038/14038 [==============================] - 21s 2ms/step - loss: 0.3261 - acc: 0.8840 - val_loss: 0.3046 - val_acc: 0.8920\n",
      "Epoch 11/20\n",
      "14038/14038 [==============================] - 21s 1ms/step - loss: 0.3064 - acc: 0.8905 - val_loss: 0.2750 - val_acc: 0.9014\n",
      "Epoch 12/20\n",
      "14038/14038 [==============================] - 21s 2ms/step - loss: 0.3135 - acc: 0.8875 - val_loss: 0.2999 - val_acc: 0.8883\n",
      "Epoch 13/20\n",
      "14038/14038 [==============================] - 21s 2ms/step - loss: 0.2959 - acc: 0.8974 - val_loss: 0.2910 - val_acc: 0.8977\n",
      "Epoch 14/20\n",
      "14038/14038 [==============================] - 21s 2ms/step - loss: 0.2928 - acc: 0.8973 - val_loss: 0.2857 - val_acc: 0.8974\n",
      "Epoch 15/20\n",
      "14038/14038 [==============================] - 21s 1ms/step - loss: 0.2852 - acc: 0.8993 - val_loss: 0.2591 - val_acc: 0.9048\n",
      "Epoch 16/20\n",
      "14038/14038 [==============================] - 22s 2ms/step - loss: 0.2861 - acc: 0.8992 - val_loss: 0.2748 - val_acc: 0.8983\n",
      "Epoch 17/20\n",
      "14038/14038 [==============================] - 21s 2ms/step - loss: 0.2762 - acc: 0.9000 - val_loss: 0.2520 - val_acc: 0.9105\n",
      "Epoch 18/20\n",
      "14038/14038 [==============================] - 21s 2ms/step - loss: 0.2767 - acc: 0.9030 - val_loss: 0.2627 - val_acc: 0.9057\n",
      "Epoch 19/20\n",
      "14038/14038 [==============================] - 21s 2ms/step - loss: 0.2727 - acc: 0.9050 - val_loss: 0.2562 - val_acc: 0.9071\n",
      "Epoch 20/20\n",
      "14038/14038 [==============================] - 21s 2ms/step - loss: 0.2694 - acc: 0.9048 - val_loss: 0.2536 - val_acc: 0.9037\n"
     ]
    }
   ],
   "source": [
    "with K.tf.device('/gpu:1'):\n",
    "    adam = optimizers.Adam(lr=1E-2, decay=5**(-4))\n",
    "    model.compile(loss='categorical_crossentropy',\n",
    "                  optimizer=adam,\n",
    "                  metrics=['accuracy'])\n",
    "\n",
    "    hist1 = model.fit(X_train,y_train,\n",
    "                      validation_data=(X_test,y_test),\n",
    "                      batch_size=32,epochs=20)"
   ]
  },
  {
   "cell_type": "code",
   "execution_count": 10,
   "metadata": {},
   "outputs": [
    {
     "data": {
      "image/png": "[encoded data removed]",
      "text/plain": [
       "<Figure size 432x288 with 1 Axes>"
      ]
     },
     "metadata": {
      "needs_background": "light"
     },
     "output_type": "display_data"
    }
   ],
   "source": [
    "for key in ['loss', 'val_loss']:\n",
    "    plt.plot(hist1.history[key],label=key)\n",
    "plt.legend()\n",
    "plt.show()"
   ]
  },
  {
   "cell_type": "code",
   "execution_count": 11,
   "metadata": {},
   "outputs": [
    {
     "name": "stdout",
     "output_type": "stream",
     "text": [
      "[1 2 3 4 5 6] (2000,)\n"
     ]
    }
   ],
   "source": [
    "y_pred = model.predict(real_test)\n",
    "y_predi = np.argmax(y_pred,axis = 1) + 1\n",
    "print(np.unique(y_predi), y_predi.shape)"
   ]
  },
  {
   "cell_type": "code",
   "execution_count": 12,
   "metadata": {},
   "outputs": [],
   "source": [
    "answer = pd.DataFrame({\"prediction\":y_predi})"
   ]
  },
  {
   "cell_type": "code",
   "execution_count": 13,
   "metadata": {},
   "outputs": [],
   "source": [
    "answer.to_csv('results/6-3.csv',index=False, header=\"label\")"
   ]
  },
  {
   "cell_type": "code",
   "execution_count": null,
   "metadata": {},
   "outputs": [],
   "source": []
  }
 ],
 "metadata": {
  "kernelspec": {
   "display_name": "jobfair",
   "language": "python",
   "name": "vnect"
  },
  "language_info": {
   "codemirror_mode": {
    "name": "ipython",
    "version": 3
   },
   "file_extension": ".py",
   "mimetype": "text/x-python",
   "name": "python",
   "nbconvert_exporter": "python",
   "pygments_lexer": "ipython3",
   "version": "3.5.6"
  }
 },
 "nbformat": 4,
 "nbformat_minor": 2
}
