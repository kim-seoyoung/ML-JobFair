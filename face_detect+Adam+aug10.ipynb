{
 "cells": [
  {
   "cell_type": "markdown",
   "metadata": {},
   "source": [
    "# augmentation"
   ]
  },
  {
   "cell_type": "markdown",
   "metadata": {},
   "source": [
    "### 87.75 점"
   ]
  },
  {
   "cell_type": "code",
   "execution_count": 1,
   "metadata": {},
   "outputs": [
    {
     "name": "stderr",
     "output_type": "stream",
     "text": [
      "Using TensorFlow backend.\n",
      "/home/pirl/anaconda3/envs/vnect/lib/python3.5/site-packages/tensorflow/python/framework/dtypes.py:523: FutureWarning: Passing (type, 1) or '1type' as a synonym of type is deprecated; in a future version of numpy, it will be understood as (type, (1,)) / '(1,)type'.\n",
      "  _np_qint8 = np.dtype([(\"qint8\", np.int8, 1)])\n",
      "/home/pirl/anaconda3/envs/vnect/lib/python3.5/site-packages/tensorflow/python/framework/dtypes.py:524: FutureWarning: Passing (type, 1) or '1type' as a synonym of type is deprecated; in a future version of numpy, it will be understood as (type, (1,)) / '(1,)type'.\n",
      "  _np_quint8 = np.dtype([(\"quint8\", np.uint8, 1)])\n",
      "/home/pirl/anaconda3/envs/vnect/lib/python3.5/site-packages/tensorflow/python/framework/dtypes.py:525: FutureWarning: Passing (type, 1) or '1type' as a synonym of type is deprecated; in a future version of numpy, it will be understood as (type, (1,)) / '(1,)type'.\n",
      "  _np_qint16 = np.dtype([(\"qint16\", np.int16, 1)])\n",
      "/home/pirl/anaconda3/envs/vnect/lib/python3.5/site-packages/tensorflow/python/framework/dtypes.py:526: FutureWarning: Passing (type, 1) or '1type' as a synonym of type is deprecated; in a future version of numpy, it will be understood as (type, (1,)) / '(1,)type'.\n",
      "  _np_quint16 = np.dtype([(\"quint16\", np.uint16, 1)])\n",
      "/home/pirl/anaconda3/envs/vnect/lib/python3.5/site-packages/tensorflow/python/framework/dtypes.py:527: FutureWarning: Passing (type, 1) or '1type' as a synonym of type is deprecated; in a future version of numpy, it will be understood as (type, (1,)) / '(1,)type'.\n",
      "  _np_qint32 = np.dtype([(\"qint32\", np.int32, 1)])\n",
      "/home/pirl/anaconda3/envs/vnect/lib/python3.5/site-packages/tensorflow/python/framework/dtypes.py:532: FutureWarning: Passing (type, 1) or '1type' as a synonym of type is deprecated; in a future version of numpy, it will be understood as (type, (1,)) / '(1,)type'.\n",
      "  np_resource = np.dtype([(\"resource\", np.ubyte, 1)])\n"
     ]
    }
   ],
   "source": [
    "import warnings\n",
    "import pandas as pd\n",
    "import numpy as np\n",
    "import cv2\n",
    "import matplotlib.pyplot as plt\n",
    "\n",
    "from keras.models import Model\n",
    "from keras.layers import Flatten, Dense, Input, Conv2D, MaxPooling2D,Dropout, BatchNormalization, Activation\n",
    "from keras.layers import GlobalAveragePooling2D, GlobalMaxPooling2D,AveragePooling2D\n",
    "from keras.engine.topology import get_source_inputs\n",
    "from keras.utils import layer_utils, to_categorical\n",
    "from keras import backend as K\n",
    "from keras import optimizers"
   ]
  },
  {
   "cell_type": "code",
   "execution_count": 2,
   "metadata": {},
   "outputs": [
    {
     "name": "stdout",
     "output_type": "stream",
     "text": [
      "70162 70162 2000\n"
     ]
    }
   ],
   "source": [
    "# load dataset list\n",
    "\n",
    "train_data = pd.read_csv(\"train_vision_aug.csv\")\n",
    "train_filename = train_data[\"filename\"].values.tolist()\n",
    "train_data[\"label\"] = train_data[\"label\"] -1\n",
    "train_label = train_data[\"label\"].values.tolist()\n",
    "\n",
    "test_data = pd.read_csv(\"test_vision.csv\")\n",
    "test_filename = test_data[\"filename\"].values.tolist()\n",
    "\n",
    "print(len(train_filename), len(train_label), len(test_filename))"
   ]
  },
  {
   "cell_type": "code",
   "execution_count": 3,
   "metadata": {},
   "outputs": [
    {
     "name": "stdout",
     "output_type": "stream",
     "text": [
      "(70162, 128, 128, 3) (70162, 6)\n"
     ]
    }
   ],
   "source": [
    "# load train data\n",
    "input_height , input_width = 128, 128\n",
    "n_class = 6\n",
    "\n",
    "def getImageArr(img_name):\n",
    "        img = cv2.imread(\"faces_images/\" + img_name, 1)\n",
    "        img = np.float32(img) / 127.5 - 1   #0~255 를 평균 0이게 수정\n",
    "        return img\n",
    "\n",
    "X = []\n",
    "for name in train_filename:\n",
    "    X.append(getImageArr(name))\n",
    "    \n",
    "X, Y = np.array(X), to_categorical(np.array(train_label),n_class)\n",
    "print(X.shape, Y.shape)"
   ]
  },
  {
   "cell_type": "code",
   "execution_count": 4,
   "metadata": {
    "scrolled": true
   },
   "outputs": [
    {
     "name": "stdout",
     "output_type": "stream",
     "text": [
      "(56129, 128, 128, 3) (56129, 6)\n",
      "(14033, 128, 128, 3) (14033, 6)\n"
     ]
    }
   ],
   "source": [
    "# split dataset\n",
    "\n",
    "train_rate = 0.8\n",
    "index_train = np.random.choice(X.shape[0],int(X.shape[0]*train_rate),replace=False)\n",
    "index_test  = list(set(range(X.shape[0])) - set(index_train))\n",
    "                            \n",
    "# X, Y = shuffle(X,Y)\n",
    "X_train, y_train = X[index_train],Y[index_train]\n",
    "X_test, y_test = X[index_test],Y[index_test]\n",
    "print(X_train.shape, y_train.shape)\n",
    "print(X_test.shape, y_test.shape)"
   ]
  },
  {
   "cell_type": "code",
   "execution_count": 5,
   "metadata": {},
   "outputs": [
    {
     "name": "stdout",
     "output_type": "stream",
     "text": [
      "(2000, 128, 128, 3)\n"
     ]
    }
   ],
   "source": [
    "# load test data\n",
    "\n",
    "real_test = []\n",
    "for name in test_filename:\n",
    "    real_test.append(getImageArr(name))\n",
    "    \n",
    "real_test = np.array(real_test)\n",
    "print(real_test.shape)"
   ]
  },
  {
   "cell_type": "code",
   "execution_count": 6,
   "metadata": {},
   "outputs": [],
   "source": [
    " def nn_base(nClasses, input_height=128, input_width=128):\n",
    "        \n",
    "    img_input = Input(shape=(input_height,input_width, 3))\n",
    "        \n",
    "    IMAGE_ORDERING =  \"channels_last\"\n",
    "    \n",
    "    x = Conv2D(filters=16, kernel_size=(7, 7), padding='same', name='image_array', data_format=IMAGE_ORDERING)(img_input)\n",
    "    x = BatchNormalization()(x)\n",
    "    x = Conv2D(filters=16, kernel_size=(7, 7), padding='same', data_format=IMAGE_ORDERING)(x)\n",
    "    x = BatchNormalization()(x)\n",
    "    x = Activation('relu')(x)\n",
    "    x = AveragePooling2D(pool_size=(2, 2), padding='same', data_format=IMAGE_ORDERING)(x)\n",
    "    x = Dropout(.5)(x)\n",
    "\n",
    "    x = Conv2D(filters=32, kernel_size=(5, 5), padding='same', data_format=IMAGE_ORDERING)(x)\n",
    "    x = BatchNormalization()(x)\n",
    "    x = Conv2D(filters=32, kernel_size=(5, 5), padding='same', data_format=IMAGE_ORDERING)(x)\n",
    "    x = BatchNormalization()(x)\n",
    "    x = Activation('relu')(x)\n",
    "    x = AveragePooling2D(pool_size=(2, 2), padding='same')(x)\n",
    "    x = Dropout(.5)(x)\n",
    "\n",
    "    x = Conv2D(filters=64, kernel_size=(3, 3), padding='same', data_format=IMAGE_ORDERING)(x)\n",
    "    x = BatchNormalization()(x)\n",
    "    x = Conv2D(filters=64, kernel_size=(3, 3), padding='same', data_format=IMAGE_ORDERING)(x)\n",
    "    x = BatchNormalization()(x)\n",
    "    x = Activation('relu')(x)\n",
    "    x = AveragePooling2D(pool_size=(2, 2), padding='same', data_format=IMAGE_ORDERING)(x)\n",
    "    x = Dropout(.5)(x)\n",
    "\n",
    "    x = Conv2D(filters=128, kernel_size=(3, 3), padding='same', data_format=IMAGE_ORDERING)(x)\n",
    "    x = BatchNormalization()(x)\n",
    "    x = Conv2D(filters=128, kernel_size=(3, 3), padding='same', data_format=IMAGE_ORDERING)(x)\n",
    "    x = BatchNormalization()(x)\n",
    "    x = Activation('relu')(x)\n",
    "    x = AveragePooling2D(pool_size=(2, 2), padding='same', data_format=IMAGE_ORDERING)(x)\n",
    "    x = Dropout(.5)(x)\n",
    "\n",
    "    x = Conv2D(filters=256, kernel_size=(3, 3), padding='same', data_format=IMAGE_ORDERING)(x)\n",
    "    x = BatchNormalization()(x)\n",
    "    x = Conv2D(filters=nClasses, kernel_size=(3, 3), padding='same', data_format=IMAGE_ORDERING)(x)\n",
    "    x = GlobalAveragePooling2D(data_format=IMAGE_ORDERING)(x)\n",
    "    x = Activation('softmax', name='predictions')(x)\n",
    "    \n",
    "    model = Model(img_input, x)\n",
    "    \n",
    "    return model"
   ]
  },
  {
   "cell_type": "code",
   "execution_count": 7,
   "metadata": {},
   "outputs": [
    {
     "name": "stdout",
     "output_type": "stream",
     "text": [
      "_________________________________________________________________\n",
      "Layer (type)                 Output Shape              Param #   \n",
      "=================================================================\n",
      "input_1 (InputLayer)         (None, 128, 128, 3)       0         \n",
      "_________________________________________________________________\n",
      "image_array (Conv2D)         (None, 128, 128, 16)      2368      \n",
      "_________________________________________________________________\n",
      "batch_normalization_1 (Batch (None, 128, 128, 16)      64        \n",
      "_________________________________________________________________\n",
      "conv2d_1 (Conv2D)            (None, 128, 128, 16)      12560     \n",
      "_________________________________________________________________\n",
      "batch_normalization_2 (Batch (None, 128, 128, 16)      64        \n",
      "_________________________________________________________________\n",
      "activation_1 (Activation)    (None, 128, 128, 16)      0         \n",
      "_________________________________________________________________\n",
      "average_pooling2d_1 (Average (None, 64, 64, 16)        0         \n",
      "_________________________________________________________________\n",
      "dropout_1 (Dropout)          (None, 64, 64, 16)        0         \n",
      "_________________________________________________________________\n",
      "conv2d_2 (Conv2D)            (None, 64, 64, 32)        12832     \n",
      "_________________________________________________________________\n",
      "batch_normalization_3 (Batch (None, 64, 64, 32)        128       \n",
      "_________________________________________________________________\n",
      "conv2d_3 (Conv2D)            (None, 64, 64, 32)        25632     \n",
      "_________________________________________________________________\n",
      "batch_normalization_4 (Batch (None, 64, 64, 32)        128       \n",
      "_________________________________________________________________\n",
      "activation_2 (Activation)    (None, 64, 64, 32)        0         \n",
      "_________________________________________________________________\n",
      "average_pooling2d_2 (Average (None, 32, 32, 32)        0         \n",
      "_________________________________________________________________\n",
      "dropout_2 (Dropout)          (None, 32, 32, 32)        0         \n",
      "_________________________________________________________________\n",
      "conv2d_4 (Conv2D)            (None, 32, 32, 64)        18496     \n",
      "_________________________________________________________________\n",
      "batch_normalization_5 (Batch (None, 32, 32, 64)        256       \n",
      "_________________________________________________________________\n",
      "conv2d_5 (Conv2D)            (None, 32, 32, 64)        36928     \n",
      "_________________________________________________________________\n",
      "batch_normalization_6 (Batch (None, 32, 32, 64)        256       \n",
      "_________________________________________________________________\n",
      "activation_3 (Activation)    (None, 32, 32, 64)        0         \n",
      "_________________________________________________________________\n",
      "average_pooling2d_3 (Average (None, 16, 16, 64)        0         \n",
      "_________________________________________________________________\n",
      "dropout_3 (Dropout)          (None, 16, 16, 64)        0         \n",
      "_________________________________________________________________\n",
      "conv2d_6 (Conv2D)            (None, 16, 16, 128)       73856     \n",
      "_________________________________________________________________\n",
      "batch_normalization_7 (Batch (None, 16, 16, 128)       512       \n",
      "_________________________________________________________________\n",
      "conv2d_7 (Conv2D)            (None, 16, 16, 128)       147584    \n",
      "_________________________________________________________________\n",
      "batch_normalization_8 (Batch (None, 16, 16, 128)       512       \n",
      "_________________________________________________________________\n",
      "activation_4 (Activation)    (None, 16, 16, 128)       0         \n",
      "_________________________________________________________________\n",
      "average_pooling2d_4 (Average (None, 8, 8, 128)         0         \n",
      "_________________________________________________________________\n",
      "dropout_4 (Dropout)          (None, 8, 8, 128)         0         \n",
      "_________________________________________________________________\n",
      "conv2d_8 (Conv2D)            (None, 8, 8, 256)         295168    \n",
      "_________________________________________________________________\n",
      "batch_normalization_9 (Batch (None, 8, 8, 256)         1024      \n",
      "_________________________________________________________________\n",
      "conv2d_9 (Conv2D)            (None, 8, 8, 6)           13830     \n",
      "_________________________________________________________________\n",
      "global_average_pooling2d_1 ( (None, 6)                 0         \n",
      "_________________________________________________________________\n",
      "predictions (Activation)     (None, 6)                 0         \n",
      "=================================================================\n",
      "Total params: 642,198\n",
      "Trainable params: 640,726\n",
      "Non-trainable params: 1,472\n",
      "_________________________________________________________________\n"
     ]
    }
   ],
   "source": [
    "model = nn_base(nClasses  = n_class,  \n",
    "             input_height = 128, \n",
    "             input_width  = 128)\n",
    "model.summary()"
   ]
  },
  {
   "cell_type": "code",
   "execution_count": 14,
   "metadata": {},
   "outputs": [
    {
     "name": "stdout",
     "output_type": "stream",
     "text": [
      "Train on 56129 samples, validate on 14033 samples\n",
      "Epoch 1/30\n",
      "56129/56129 [==============================] - 83s 1ms/step - loss: 0.3379 - acc: 0.8782 - val_loss: 0.2466 - val_acc: 0.9148\n",
      "Epoch 2/30\n",
      "56129/56129 [==============================] - 81s 1ms/step - loss: 0.2529 - acc: 0.9101 - val_loss: 0.1762 - val_acc: 0.9402\n",
      "Epoch 3/30\n",
      "56129/56129 [==============================] - 84s 1ms/step - loss: 0.2260 - acc: 0.9186 - val_loss: 0.1582 - val_acc: 0.9451\n",
      "Epoch 4/30\n",
      "56129/56129 [==============================] - 84s 1ms/step - loss: 0.2110 - acc: 0.9241 - val_loss: 0.1611 - val_acc: 0.9436\n",
      "Epoch 5/30\n",
      "56129/56129 [==============================] - 84s 2ms/step - loss: 0.2016 - acc: 0.9272 - val_loss: 0.1630 - val_acc: 0.9414\n",
      "Epoch 6/30\n",
      "56129/56129 [==============================] - 85s 2ms/step - loss: 0.1917 - acc: 0.9304 - val_loss: 0.1264 - val_acc: 0.9543\n",
      "Epoch 7/30\n",
      "56129/56129 [==============================] - 84s 1ms/step - loss: 0.1894 - acc: 0.9314 - val_loss: 0.1149 - val_acc: 0.9599\n",
      "Epoch 8/30\n",
      "56129/56129 [==============================] - 87s 2ms/step - loss: 0.1774 - acc: 0.9360 - val_loss: 0.1228 - val_acc: 0.9569\n",
      "Epoch 9/30\n",
      "56129/56129 [==============================] - 88s 2ms/step - loss: 0.1778 - acc: 0.9358 - val_loss: 0.1121 - val_acc: 0.9602\n",
      "Epoch 10/30\n",
      "56129/56129 [==============================] - 84s 1ms/step - loss: 0.1765 - acc: 0.9373 - val_loss: 0.1058 - val_acc: 0.9649\n",
      "Epoch 11/30\n",
      "56129/56129 [==============================] - 83s 1ms/step - loss: 0.1675 - acc: 0.9395 - val_loss: 0.1094 - val_acc: 0.9593\n",
      "Epoch 12/30\n",
      "56129/56129 [==============================] - 84s 1ms/step - loss: 0.1678 - acc: 0.9395 - val_loss: 0.1023 - val_acc: 0.9651\n",
      "Epoch 13/30\n",
      "56129/56129 [==============================] - 84s 1ms/step - loss: 0.1657 - acc: 0.9401 - val_loss: 0.1068 - val_acc: 0.9629\n",
      "Epoch 14/30\n",
      "56129/56129 [==============================] - 83s 1ms/step - loss: 0.1612 - acc: 0.9417 - val_loss: 0.0982 - val_acc: 0.9663\n",
      "Epoch 15/30\n",
      "56129/56129 [==============================] - 84s 1ms/step - loss: 0.1592 - acc: 0.9423 - val_loss: 0.0979 - val_acc: 0.9664\n",
      "Epoch 16/30\n",
      "56129/56129 [==============================] - 84s 2ms/step - loss: 0.1587 - acc: 0.9425 - val_loss: 0.0941 - val_acc: 0.9678\n",
      "Epoch 17/30\n",
      "56129/56129 [==============================] - 85s 2ms/step - loss: 0.1579 - acc: 0.9431 - val_loss: 0.0901 - val_acc: 0.9696\n",
      "Epoch 18/30\n",
      "56129/56129 [==============================] - 85s 2ms/step - loss: 0.1560 - acc: 0.9426 - val_loss: 0.0916 - val_acc: 0.9685\n",
      "Epoch 19/30\n",
      "56129/56129 [==============================] - 85s 2ms/step - loss: 0.1573 - acc: 0.9427 - val_loss: 0.0903 - val_acc: 0.9679\n",
      "Epoch 20/30\n",
      "56129/56129 [==============================] - 85s 2ms/step - loss: 0.1539 - acc: 0.9441 - val_loss: 0.0885 - val_acc: 0.9693\n",
      "Epoch 21/30\n",
      "56129/56129 [==============================] - 85s 2ms/step - loss: 0.1533 - acc: 0.9444 - val_loss: 0.0894 - val_acc: 0.9694\n",
      "Epoch 22/30\n",
      "56129/56129 [==============================] - 86s 2ms/step - loss: 0.1532 - acc: 0.9444 - val_loss: 0.0877 - val_acc: 0.9696\n",
      "Epoch 23/30\n",
      "56129/56129 [==============================] - 85s 2ms/step - loss: 0.1517 - acc: 0.9452 - val_loss: 0.0875 - val_acc: 0.9689\n",
      "Epoch 24/30\n",
      "56129/56129 [==============================] - 85s 2ms/step - loss: 0.1498 - acc: 0.9466 - val_loss: 0.0828 - val_acc: 0.9722\n",
      "Epoch 25/30\n",
      "56129/56129 [==============================] - 86s 2ms/step - loss: 0.1521 - acc: 0.9440 - val_loss: 0.0859 - val_acc: 0.9708\n",
      "Epoch 26/30\n",
      "56129/56129 [==============================] - 85s 2ms/step - loss: 0.1466 - acc: 0.9464 - val_loss: 0.0880 - val_acc: 0.9693\n",
      "Epoch 27/30\n",
      "56129/56129 [==============================] - 84s 2ms/step - loss: 0.1468 - acc: 0.9463 - val_loss: 0.0806 - val_acc: 0.9727\n",
      "Epoch 28/30\n",
      "56129/56129 [==============================] - 84s 1ms/step - loss: 0.1442 - acc: 0.9484 - val_loss: 0.0838 - val_acc: 0.9716\n",
      "Epoch 29/30\n",
      "56129/56129 [==============================] - 84s 1ms/step - loss: 0.1460 - acc: 0.9468 - val_loss: 0.0796 - val_acc: 0.9721\n",
      "Epoch 30/30\n",
      "56129/56129 [==============================] - 84s 2ms/step - loss: 0.1455 - acc: 0.9474 - val_loss: 0.0780 - val_acc: 0.9736\n"
     ]
    }
   ],
   "source": [
    "with K.tf.device('/gpu:1'):\n",
    "    adam = optimizers.Adam(lr=1E-2, decay=5**(-4))\n",
    "    model.compile(loss='categorical_crossentropy',\n",
    "                  optimizer=adam,\n",
    "                  metrics=['accuracy'])\n",
    "\n",
    "    hist1 = model.fit(X_train,y_train,\n",
    "                      validation_data=(X_test,y_test),\n",
    "                      batch_size=32,epochs=30)"
   ]
  },
  {
   "cell_type": "code",
   "execution_count": 15,
   "metadata": {},
   "outputs": [
    {
     "data": {
      "image/png": "[encoded data removed]",
      "text/plain": [
       "<Figure size 432x288 with 1 Axes>"
      ]
     },
     "metadata": {
      "needs_background": "light"
     },
     "output_type": "display_data"
    }
   ],
   "source": [
    "for key in ['loss', 'val_loss']:\n",
    "    plt.plot(hist1.history[key],label=key)\n",
    "plt.legend()\n",
    "plt.show()"
   ]
  },
  {
   "cell_type": "code",
   "execution_count": 16,
   "metadata": {},
   "outputs": [
    {
     "name": "stdout",
     "output_type": "stream",
     "text": [
      "[1 2 3 4 5 6] (2000,)\n"
     ]
    }
   ],
   "source": [
    "y_pred = model.predict(real_test)\n",
    "y_predi = np.argmax(y_pred,axis = 1) + 1\n",
    "print(np.unique(y_predi), y_predi.shape)"
   ]
  },
  {
   "cell_type": "code",
   "execution_count": 17,
   "metadata": {},
   "outputs": [],
   "source": [
    "answer = pd.DataFrame({\"prediction\":y_predi})"
   ]
  },
  {
   "cell_type": "code",
   "execution_count": 18,
   "metadata": {},
   "outputs": [],
   "source": [
    "answer.to_csv('results/5-2.csv',index=False, header=\"label\")"
   ]
  },
  {
   "cell_type": "code",
   "execution_count": null,
   "metadata": {},
   "outputs": [],
   "source": []
  }
 ],
 "metadata": {
  "kernelspec": {
   "display_name": "jobfair",
   "language": "python",
   "name": "vnect"
  },
  "language_info": {
   "codemirror_mode": {
    "name": "ipython",
    "version": 3
   },
   "file_extension": ".py",
   "mimetype": "text/x-python",
   "name": "python",
   "nbconvert_exporter": "python",
   "pygments_lexer": "ipython3",
   "version": "3.5.6"
  }
 },
 "nbformat": 4,
 "nbformat_minor": 2
}
